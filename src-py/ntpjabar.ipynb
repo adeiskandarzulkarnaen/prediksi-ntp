{
  "cells": [
    {
      "cell_type": "markdown",
      "metadata": {
        "id": "2g85ZfH2prbx"
      },
      "source": [
        "<a href=\"https://colab.research.google.com/github/adeiskandarzulkarnaen/prediksi-ntp/blob/main/src-py/ntpjabar.ipynb\" target=\"_parent\"><img src=\"https://colab.research.google.com/assets/colab-badge.svg\" alt=\"Open In Colab\"/></a>"
      ]
    },
    {
      "cell_type": "markdown",
      "metadata": {
        "id": "JQsk1BKwZrBh"
      },
      "source": [
        "# Predicting Farmer's Term Of Trade with Neural Networks (DNN only)\n",
        "\n",
        " In particular, we will train on the ntp data sourced from official government portal [prov. Jawa Barat](https://opendata.jabarprov.go.id/id/dataset/nilai-tukar-petani-ntp-berdasarkan-kategori-bulan-di-jawa-barat): a monthly record of ntp numbers from January 2006 to December 2019. We will first build a deep neural network here composed of dense layers.\n",
        "\n",
        "Let's begin!"
      ]
    },
    {
      "cell_type": "markdown",
      "metadata": {
        "id": "2JHlrB12aeFD"
      },
      "source": [
        "## Imports\n",
        "\n",
        "We will use the addition of the [csv](https://docs.python.org/3/library/csv.html) module. We will need this to parse the CSV file containing the dataset."
      ]
    },
    {
      "cell_type": "code",
      "execution_count": 1,
      "metadata": {
        "id": "56XEQOGknrAk"
      },
      "outputs": [],
      "source": [
        "import tensorflow as tf\n",
        "import numpy as np\n",
        "import matplotlib.pyplot as plt\n",
        "import csv"
      ]
    },
    {
      "cell_type": "markdown",
      "metadata": {
        "id": "D-mNttnaagBH"
      },
      "source": [
        "## Utilities\n",
        "\n",
        "We will be plotting several graphs in this notebook so it's good to have a utility function for that. The following code will visualize numpy arrays into a graph using Pyplot's plot() method. The unit for this training we can think of as months, starting from jan 2006 to dec 2019. The y-axis will contain the measured values at each time step."
      ]
    },
    {
      "cell_type": "code",
      "execution_count": 2,
      "metadata": {
        "id": "sLl52leVp5wU"
      },
      "outputs": [],
      "source": [
        "def plot_series(x, y, format=\"-\", start=0, end=None,\n",
        "                title=None, xlabel=None, ylabel=None, legend=None ):\n",
        "    \"\"\"\n",
        "    Visualizes time series data\n",
        "\n",
        "    Args:\n",
        "      x (array of int) - contains values for the x-axis\n",
        "      y (array of int or tuple of arrays) - contains the values for the y-axis\n",
        "      format (string) - line style when plotting the graph\n",
        "      label (string) - tag for the line\n",
        "      start (int) - first time step to plot\n",
        "      end (int) - last time step to plot\n",
        "      title (string) - title of the plot\n",
        "      xlabel (string) - label for the x-axis\n",
        "      ylabel (string) - label for the y-axis\n",
        "      legend (list of strings) - legend for the plot\n",
        "    \"\"\"\n",
        "\n",
        "    # Setup dimensions of the graph figure\n",
        "    plt.figure(figsize=(10, 6))\n",
        "\n",
        "    # Check if there are more than two series to plot\n",
        "    if type(y) is tuple:\n",
        "\n",
        "      # Loop over the y elements\n",
        "      for y_curr in y:\n",
        "\n",
        "        # Plot the x and current y values\n",
        "        plt.plot(x[start:end], y_curr[start:end], format)\n",
        "\n",
        "    else:\n",
        "      # Plot the x and y values\n",
        "      plt.plot(x[start:end], y[start:end], format)\n",
        "\n",
        "    # Label the x-axis\n",
        "    plt.xlabel(xlabel)\n",
        "    # plt.xticks(range(0, max(x) + 12, 12))\n",
        "\n",
        "    # Label the y-axis\n",
        "    plt.ylabel(ylabel)\n",
        "    # plt.ylim(50, max(y) + 10)\n",
        "\n",
        "    # Set the legend\n",
        "    if legend:\n",
        "      plt.legend(legend)\n",
        "\n",
        "    # Set the title\n",
        "    plt.title(title)\n",
        "\n",
        "    # Overlay a grid on the graph\n",
        "    plt.grid(True)\n",
        "\n",
        "    # Draw the graph on screen\n",
        "    plt.show()"
      ]
    },
    {
      "cell_type": "markdown",
      "metadata": {
        "id": "dFJv45pDauS8"
      },
      "source": [
        "## Download and Preview the Dataset\n",
        "\n",
        "we can now download the dataset and inspect the contents. The link in class is from ade's repo but we also hosted it in the link below."
      ]
    },
    {
      "cell_type": "code",
      "execution_count": 3,
      "metadata": {
        "id": "YwI-si5xyUkQ",
        "colab": {
          "base_uri": "https://localhost:8080/"
        },
        "outputId": "0ec7da90-f4dd-4432-e486-639da161ba31"
      },
      "outputs": [
        {
          "output_type": "stream",
          "name": "stdout",
          "text": [
            "--2023-10-30 00:18:47--  https://raw.githubusercontent.com/adeiskandarzulkarnaen/prediksi-ntp/main/src-py/ntpjabar.csv\n",
            "Resolving raw.githubusercontent.com (raw.githubusercontent.com)... 185.199.108.133, 185.199.109.133, 185.199.110.133, ...\n",
            "Connecting to raw.githubusercontent.com (raw.githubusercontent.com)|185.199.108.133|:443... connected.\n",
            "HTTP request sent, awaiting response... 200 OK\n",
            "Length: 3075 (3.0K) [text/plain]\n",
            "Saving to: ‘ntpjabar.csv’\n",
            "\n",
            "\rntpjabar.csv          0%[                    ]       0  --.-KB/s               \rntpjabar.csv        100%[===================>]   3.00K  --.-KB/s    in 0s      \n",
            "\n",
            "2023-10-30 00:18:47 (38.8 MB/s) - ‘ntpjabar.csv’ saved [3075/3075]\n",
            "\n"
          ]
        }
      ],
      "source": [
        "# Download the dataset\n",
        "!wget https://raw.githubusercontent.com/adeiskandarzulkarnaen/prediksi-ntp/main/src-py/ntpjabar.csv\n"
      ]
    },
    {
      "cell_type": "markdown",
      "metadata": {
        "id": "c0fAiMytrwPJ"
      },
      "source": [
        "Running the cell below, we'll see that there are only three columns in the dataset:\n",
        "1. no column containing the number of data\n",
        "2. Year and Month which has the format `YYYY-MM`\n",
        "3. NTP value"
      ]
    },
    {
      "cell_type": "code",
      "execution_count": 4,
      "metadata": {
        "id": "d5W2auXKrhVh",
        "colab": {
          "base_uri": "https://localhost:8080/"
        },
        "outputId": "d406fa3f-4a63-4ac2-d476-d4044454b902"
      },
      "outputs": [
        {
          "output_type": "stream",
          "name": "stdout",
          "text": [
            "no,year-month,ntp value\n",
            "1,2006-01,113.67\n",
            "2,2006-02,113.10\n",
            "3,2006-03,113.58\n",
            "4,2006-04,112.26\n",
            "5,2006-05,111.33\n",
            "6,2006-06,112.86\n",
            "7,2006-07,115.02\n",
            "8,2006-08,117.55\n",
            "9,2006-09,116.83\n"
          ]
        }
      ],
      "source": [
        "# Preview the dataset\n",
        "!head ntpjabar.csv"
      ]
    },
    {
      "cell_type": "markdown",
      "metadata": {
        "id": "lbs-Y2SDsVaw"
      },
      "source": [
        "For this lab, we will only need the time steps and the ntp values. We will load those into memory and convert it to arrays that represents a time series."
      ]
    },
    {
      "cell_type": "code",
      "execution_count": 5,
      "metadata": {
        "id": "NcG9r1eClbTh",
        "colab": {
          "base_uri": "https://localhost:8080/",
          "height": 542
        },
        "outputId": "8e108862-4aae-4915-f2fe-e272b46f53b4"
      },
      "outputs": [
        {
          "output_type": "display_data",
          "data": {
            "text/plain": [
              "<Figure size 1000x600 with 1 Axes>"
            ],
            "image/png": "[encoded data removed]"
          },
          "metadata": {}
        }
      ],
      "source": [
        "# Initialize lists\n",
        "time_step = []\n",
        "ntp_values = []\n",
        "\n",
        "# Open CSV file\n",
        "with open('./ntpjabar.csv') as csvfile:\n",
        "  # Initialize reader\n",
        "  reader = csv.reader(csvfile, delimiter=',')\n",
        "\n",
        "  # Skip the first line\n",
        "  next(reader)\n",
        "\n",
        "  # Append row and ntp values to lists\n",
        "  for row in reader:\n",
        "    time_step.append(int(row[0]))\n",
        "    ntp_values.append(float(row[2]))\n",
        "\n",
        "\n",
        "# Convert lists to numpy arrays\n",
        "time = np.array(time_step)\n",
        "series = np.array(ntp_values)\n",
        "\n",
        "# Preview the data\n",
        "plot_series(time, series, xlabel='Months from Jan 2006 to Dec 2019', ylabel='NTP value')"
      ]
    },
    {
      "cell_type": "markdown",
      "metadata": {
        "id": "EUQE9RRoazC5"
      },
      "source": [
        "## Split the Dataset\n",
        "\n",
        "Next, we will split the dataset into training and validation sets. There are 168 points in the dataset and we will use the first 144 for training."
      ]
    },
    {
      "cell_type": "code",
      "execution_count": 6,
      "metadata": {
        "id": "L92YRw_IpCFG"
      },
      "outputs": [],
      "source": [
        "# Define the split time\n",
        "split_time = 144\n",
        "\n",
        "# Get the train set\n",
        "time_train = time[:split_time]\n",
        "x_train = series[:split_time]\n",
        "\n",
        "# Get the validation set\n",
        "time_valid = time[split_time:]\n",
        "x_valid = series[split_time:]"
      ]
    },
    {
      "cell_type": "markdown",
      "metadata": {
        "id": "RbuIOrb3a093"
      },
      "source": [
        "## Prepare Features and Labels\n",
        "\n",
        "We can then prepare the dataset windows. The window size is set to 12 points (equal to 1 year) but feel free to change later on if we want to experiment."
      ]
    },
    {
      "cell_type": "code",
      "execution_count": 7,
      "metadata": {
        "id": "lJwUUZscnG38"
      },
      "outputs": [],
      "source": [
        "def windowed_dataset(series, window_size, batch_size, shuffle_buffer):\n",
        "    \"\"\"Generates dataset windows\n",
        "\n",
        "    Args:\n",
        "      series (array of float) - contains the values of the time series\n",
        "      window_size (int) - the number of time steps to include in the feature\n",
        "      batch_size (int) - the batch size\n",
        "      shuffle_buffer(int) - buffer size to use for the shuffle method\n",
        "\n",
        "    Returns:\n",
        "      dataset (TF Dataset) - TF Dataset containing time windows\n",
        "    \"\"\"\n",
        "\n",
        "    # Generate a TF Dataset from the series values\n",
        "    dataset = tf.data.Dataset.from_tensor_slices(series)\n",
        "\n",
        "    # Window the data but only take those with the specified size\n",
        "    dataset = dataset.window(window_size + 1, shift=1, drop_remainder=True)\n",
        "\n",
        "    # Flatten the windows by putting its elements in a single batch\n",
        "    dataset = dataset.flat_map(lambda window: window.batch(window_size + 1))\n",
        "\n",
        "    # Create tuples with features and labels\n",
        "    dataset = dataset.map(lambda window: (window[:-1], window[-1]))\n",
        "\n",
        "    # Shuffle the windows\n",
        "    dataset = dataset.shuffle(shuffle_buffer)\n",
        "\n",
        "    # Create batches of windows\n",
        "    dataset = dataset.batch(batch_size).prefetch(1)\n",
        "\n",
        "    return dataset"
      ]
    },
    {
      "cell_type": "code",
      "execution_count": 8,
      "metadata": {
        "id": "9g5zSxZwZQt_"
      },
      "outputs": [],
      "source": [
        "# Parameters\n",
        "window_size = 12\n",
        "batch_size = 14\n",
        "shuffle_buffer_size = 1000\n",
        "\n",
        "# Generate the dataset windows\n",
        "train_set = windowed_dataset(x_train, window_size, batch_size, shuffle_buffer_size)"
      ]
    },
    {
      "cell_type": "markdown",
      "metadata": {
        "id": "_Lhpi42ta5yP"
      },
      "source": [
        "## Build the Model\n",
        "\n",
        "The model will be 3-layer dense network as shown below."
      ]
    },
    {
      "cell_type": "code",
      "execution_count": 9,
      "metadata": {
        "id": "AclfYY3Mn6Ph",
        "colab": {
          "base_uri": "https://localhost:8080/"
        },
        "outputId": "1815ff51-f9e4-428a-b76a-50c217392e10"
      },
      "outputs": [
        {
          "output_type": "stream",
          "name": "stdout",
          "text": [
            "Model: \"sequential\"\n",
            "_________________________________________________________________\n",
            " Layer (type)                Output Shape              Param #   \n",
            "=================================================================\n",
            " dense (Dense)               (None, 12)                156       \n",
            "                                                                 \n",
            " dense_1 (Dense)             (None, 11)                143       \n",
            "                                                                 \n",
            " dense_2 (Dense)             (None, 11)                132       \n",
            "                                                                 \n",
            " dense_3 (Dense)             (None, 1)                 12        \n",
            "                                                                 \n",
            "=================================================================\n",
            "Total params: 443 (1.73 KB)\n",
            "Trainable params: 443 (1.73 KB)\n",
            "Non-trainable params: 0 (0.00 Byte)\n",
            "_________________________________________________________________\n"
          ]
        }
      ],
      "source": [
        "# Build the model\n",
        "model = tf.keras.models.Sequential([\n",
        "    tf.keras.layers.Dense(12, input_shape=[window_size], activation=\"relu\"),\n",
        "    tf.keras.layers.Dense(11, activation=\"relu\"),\n",
        "    tf.keras.layers.Dense(11, activation=\"relu\"),\n",
        "    tf.keras.layers.Dense(1)\n",
        "])\n",
        "\n",
        "# Print the model summary\n",
        "model.summary()"
      ]
    },
    {
      "cell_type": "markdown",
      "metadata": {
        "id": "uyT14hQOa97V"
      },
      "source": [
        "## Tune the Learning Rate\n",
        "\n",
        "We can pick a learning rate by running the learning rate scheduler code."
      ]
    },
    {
      "cell_type": "code",
      "execution_count": 10,
      "metadata": {
        "id": "GXiqsZQ1y4nD",
        "colab": {
          "base_uri": "https://localhost:8080/"
        },
        "outputId": "59377ca0-d3a1-435f-bcff-f2604e21ca8e"
      },
      "outputs": [
        {
          "output_type": "stream",
          "name": "stdout",
          "text": [
            "Epoch 1/100\n",
            "10/10 [==============================] - 3s 6ms/step - loss: 94.5850 - lr: 1.0000e-08\n",
            "Epoch 2/100\n",
            "10/10 [==============================] - 0s 3ms/step - loss: 94.5761 - lr: 1.1220e-08\n",
            "Epoch 3/100\n",
            "10/10 [==============================] - 0s 3ms/step - loss: 94.5622 - lr: 1.2589e-08\n",
            "Epoch 4/100\n",
            "10/10 [==============================] - 0s 3ms/step - loss: 94.5458 - lr: 1.4125e-08\n",
            "Epoch 5/100\n",
            "10/10 [==============================] - 0s 3ms/step - loss: 94.5263 - lr: 1.5849e-08\n",
            "Epoch 6/100\n",
            "10/10 [==============================] - 0s 3ms/step - loss: 94.5053 - lr: 1.7783e-08\n",
            "Epoch 7/100\n",
            "10/10 [==============================] - 0s 5ms/step - loss: 94.4818 - lr: 1.9953e-08\n",
            "Epoch 8/100\n",
            "10/10 [==============================] - 0s 3ms/step - loss: 94.4557 - lr: 2.2387e-08\n",
            "Epoch 9/100\n",
            "10/10 [==============================] - 0s 3ms/step - loss: 94.4263 - lr: 2.5119e-08\n",
            "Epoch 10/100\n",
            "10/10 [==============================] - 0s 4ms/step - loss: 94.3941 - lr: 2.8184e-08\n",
            "Epoch 11/100\n",
            "10/10 [==============================] - 0s 3ms/step - loss: 94.3590 - lr: 3.1623e-08\n",
            "Epoch 12/100\n",
            "10/10 [==============================] - 0s 3ms/step - loss: 94.3194 - lr: 3.5481e-08\n",
            "Epoch 13/100\n",
            "10/10 [==============================] - 0s 3ms/step - loss: 94.2771 - lr: 3.9811e-08\n",
            "Epoch 14/100\n",
            "10/10 [==============================] - 0s 3ms/step - loss: 94.2306 - lr: 4.4668e-08\n",
            "Epoch 15/100\n",
            "10/10 [==============================] - 0s 3ms/step - loss: 94.1810 - lr: 5.0119e-08\n",
            "Epoch 16/100\n",
            "10/10 [==============================] - 0s 3ms/step - loss: 94.1273 - lr: 5.6234e-08\n",
            "Epoch 17/100\n",
            "10/10 [==============================] - 0s 3ms/step - loss: 94.0695 - lr: 6.3096e-08\n",
            "Epoch 18/100\n",
            "10/10 [==============================] - 0s 4ms/step - loss: 94.0089 - lr: 7.0795e-08\n",
            "Epoch 19/100\n",
            "10/10 [==============================] - 0s 4ms/step - loss: 93.9459 - lr: 7.9433e-08\n",
            "Epoch 20/100\n",
            "10/10 [==============================] - 0s 4ms/step - loss: 93.8787 - lr: 8.9125e-08\n",
            "Epoch 21/100\n",
            "10/10 [==============================] - 0s 3ms/step - loss: 93.8077 - lr: 1.0000e-07\n",
            "Epoch 22/100\n",
            "10/10 [==============================] - 0s 3ms/step - loss: 93.7311 - lr: 1.1220e-07\n",
            "Epoch 23/100\n",
            "10/10 [==============================] - 0s 4ms/step - loss: 93.6506 - lr: 1.2589e-07\n",
            "Epoch 24/100\n",
            "10/10 [==============================] - 0s 4ms/step - loss: 93.5633 - lr: 1.4125e-07\n",
            "Epoch 25/100\n",
            "10/10 [==============================] - 0s 4ms/step - loss: 93.4673 - lr: 1.5849e-07\n",
            "Epoch 26/100\n",
            "10/10 [==============================] - 0s 4ms/step - loss: 93.3608 - lr: 1.7783e-07\n",
            "Epoch 27/100\n",
            "10/10 [==============================] - 0s 3ms/step - loss: 93.2427 - lr: 1.9953e-07\n",
            "Epoch 28/100\n",
            "10/10 [==============================] - 0s 3ms/step - loss: 93.1102 - lr: 2.2387e-07\n",
            "Epoch 29/100\n",
            "10/10 [==============================] - 0s 3ms/step - loss: 92.9606 - lr: 2.5119e-07\n",
            "Epoch 30/100\n",
            "10/10 [==============================] - 0s 4ms/step - loss: 92.7920 - lr: 2.8184e-07\n",
            "Epoch 31/100\n",
            "10/10 [==============================] - 0s 4ms/step - loss: 92.6011 - lr: 3.1623e-07\n",
            "Epoch 32/100\n",
            "10/10 [==============================] - 0s 3ms/step - loss: 92.3849 - lr: 3.5481e-07\n",
            "Epoch 33/100\n",
            "10/10 [==============================] - 0s 4ms/step - loss: 92.1392 - lr: 3.9811e-07\n",
            "Epoch 34/100\n",
            "10/10 [==============================] - 0s 3ms/step - loss: 91.8592 - lr: 4.4668e-07\n",
            "Epoch 35/100\n",
            "10/10 [==============================] - 0s 4ms/step - loss: 91.5411 - lr: 5.0119e-07\n",
            "Epoch 36/100\n",
            "10/10 [==============================] - 0s 4ms/step - loss: 91.1764 - lr: 5.6234e-07\n",
            "Epoch 37/100\n",
            "10/10 [==============================] - 0s 3ms/step - loss: 90.7566 - lr: 6.3096e-07\n",
            "Epoch 38/100\n",
            "10/10 [==============================] - 0s 3ms/step - loss: 90.2764 - lr: 7.0795e-07\n",
            "Epoch 39/100\n",
            "10/10 [==============================] - 0s 3ms/step - loss: 89.7194 - lr: 7.9433e-07\n",
            "Epoch 40/100\n",
            "10/10 [==============================] - 0s 4ms/step - loss: 89.0742 - lr: 8.9125e-07\n",
            "Epoch 41/100\n",
            "10/10 [==============================] - 0s 4ms/step - loss: 88.3227 - lr: 1.0000e-06\n",
            "Epoch 42/100\n",
            "10/10 [==============================] - 0s 3ms/step - loss: 87.4380 - lr: 1.1220e-06\n",
            "Epoch 43/100\n",
            "10/10 [==============================] - 0s 4ms/step - loss: 86.3908 - lr: 1.2589e-06\n",
            "Epoch 44/100\n",
            "10/10 [==============================] - 0s 3ms/step - loss: 85.1405 - lr: 1.4125e-06\n",
            "Epoch 45/100\n",
            "10/10 [==============================] - 0s 3ms/step - loss: 83.5732 - lr: 1.5849e-06\n",
            "Epoch 46/100\n",
            "10/10 [==============================] - 0s 4ms/step - loss: 81.1298 - lr: 1.7783e-06\n",
            "Epoch 47/100\n",
            "10/10 [==============================] - 0s 3ms/step - loss: 77.2617 - lr: 1.9953e-06\n",
            "Epoch 48/100\n",
            "10/10 [==============================] - 0s 3ms/step - loss: 72.0830 - lr: 2.2387e-06\n",
            "Epoch 49/100\n",
            "10/10 [==============================] - 0s 3ms/step - loss: 65.3265 - lr: 2.5119e-06\n",
            "Epoch 50/100\n",
            "10/10 [==============================] - 0s 3ms/step - loss: 56.3646 - lr: 2.8184e-06\n",
            "Epoch 51/100\n",
            "10/10 [==============================] - 0s 3ms/step - loss: 44.0215 - lr: 3.1623e-06\n",
            "Epoch 52/100\n",
            "10/10 [==============================] - 0s 4ms/step - loss: 26.4068 - lr: 3.5481e-06\n",
            "Epoch 53/100\n",
            "10/10 [==============================] - 0s 4ms/step - loss: 6.0445 - lr: 3.9811e-06\n",
            "Epoch 54/100\n",
            "10/10 [==============================] - 0s 5ms/step - loss: 5.1595 - lr: 4.4668e-06\n",
            "Epoch 55/100\n",
            "10/10 [==============================] - 0s 5ms/step - loss: 3.2972 - lr: 5.0119e-06\n",
            "Epoch 56/100\n",
            "10/10 [==============================] - 0s 5ms/step - loss: 2.6446 - lr: 5.6234e-06\n",
            "Epoch 57/100\n",
            "10/10 [==============================] - 0s 5ms/step - loss: 2.4963 - lr: 6.3096e-06\n",
            "Epoch 58/100\n",
            "10/10 [==============================] - 0s 6ms/step - loss: 2.5246 - lr: 7.0795e-06\n",
            "Epoch 59/100\n",
            "10/10 [==============================] - 0s 5ms/step - loss: 2.7255 - lr: 7.9433e-06\n",
            "Epoch 60/100\n",
            "10/10 [==============================] - 0s 6ms/step - loss: 2.3381 - lr: 8.9125e-06\n",
            "Epoch 61/100\n",
            "10/10 [==============================] - 0s 5ms/step - loss: 2.2339 - lr: 1.0000e-05\n",
            "Epoch 62/100\n",
            "10/10 [==============================] - 0s 7ms/step - loss: 2.2695 - lr: 1.1220e-05\n",
            "Epoch 63/100\n",
            "10/10 [==============================] - 0s 5ms/step - loss: 2.3260 - lr: 1.2589e-05\n",
            "Epoch 64/100\n",
            "10/10 [==============================] - 0s 5ms/step - loss: 2.2377 - lr: 1.4125e-05\n",
            "Epoch 65/100\n",
            "10/10 [==============================] - 0s 6ms/step - loss: 2.2554 - lr: 1.5849e-05\n",
            "Epoch 66/100\n",
            "10/10 [==============================] - 0s 5ms/step - loss: 2.4818 - lr: 1.7783e-05\n",
            "Epoch 67/100\n",
            "10/10 [==============================] - 0s 5ms/step - loss: 2.6882 - lr: 1.9953e-05\n",
            "Epoch 68/100\n",
            "10/10 [==============================] - 0s 5ms/step - loss: 2.2910 - lr: 2.2387e-05\n",
            "Epoch 69/100\n",
            "10/10 [==============================] - 0s 5ms/step - loss: 2.3293 - lr: 2.5119e-05\n",
            "Epoch 70/100\n",
            "10/10 [==============================] - 0s 4ms/step - loss: 2.4861 - lr: 2.8184e-05\n",
            "Epoch 71/100\n",
            "10/10 [==============================] - 0s 4ms/step - loss: 2.1404 - lr: 3.1623e-05\n",
            "Epoch 72/100\n",
            "10/10 [==============================] - 0s 3ms/step - loss: 2.6982 - lr: 3.5481e-05\n",
            "Epoch 73/100\n",
            "10/10 [==============================] - 0s 3ms/step - loss: 2.6542 - lr: 3.9811e-05\n",
            "Epoch 74/100\n",
            "10/10 [==============================] - 0s 3ms/step - loss: 2.2031 - lr: 4.4668e-05\n",
            "Epoch 75/100\n",
            "10/10 [==============================] - 0s 3ms/step - loss: 2.9972 - lr: 5.0119e-05\n",
            "Epoch 76/100\n",
            "10/10 [==============================] - 0s 4ms/step - loss: 3.9655 - lr: 5.6234e-05\n",
            "Epoch 77/100\n",
            "10/10 [==============================] - 0s 4ms/step - loss: 5.5170 - lr: 6.3096e-05\n",
            "Epoch 78/100\n",
            "10/10 [==============================] - 0s 4ms/step - loss: 4.3907 - lr: 7.0795e-05\n",
            "Epoch 79/100\n",
            "10/10 [==============================] - 0s 4ms/step - loss: 3.6297 - lr: 7.9433e-05\n",
            "Epoch 80/100\n",
            "10/10 [==============================] - 0s 5ms/step - loss: 5.0703 - lr: 8.9125e-05\n",
            "Epoch 81/100\n",
            "10/10 [==============================] - 0s 4ms/step - loss: 2.6860 - lr: 1.0000e-04\n",
            "Epoch 82/100\n",
            "10/10 [==============================] - 0s 4ms/step - loss: 4.6536 - lr: 1.1220e-04\n",
            "Epoch 83/100\n",
            "10/10 [==============================] - 0s 3ms/step - loss: 3.9973 - lr: 1.2589e-04\n",
            "Epoch 84/100\n",
            "10/10 [==============================] - 0s 3ms/step - loss: 6.7789 - lr: 1.4125e-04\n",
            "Epoch 85/100\n",
            "10/10 [==============================] - 0s 4ms/step - loss: 6.4271 - lr: 1.5849e-04\n",
            "Epoch 86/100\n",
            "10/10 [==============================] - 0s 4ms/step - loss: 11.0764 - lr: 1.7783e-04\n",
            "Epoch 87/100\n",
            "10/10 [==============================] - 0s 3ms/step - loss: 6.2285 - lr: 1.9953e-04\n",
            "Epoch 88/100\n",
            "10/10 [==============================] - 0s 4ms/step - loss: 14.1171 - lr: 2.2387e-04\n",
            "Epoch 89/100\n",
            "10/10 [==============================] - 0s 3ms/step - loss: 28.0506 - lr: 2.5119e-04\n",
            "Epoch 90/100\n",
            "10/10 [==============================] - 0s 3ms/step - loss: 31.2839 - lr: 2.8184e-04\n",
            "Epoch 91/100\n",
            "10/10 [==============================] - 0s 4ms/step - loss: 25.1261 - lr: 3.1623e-04\n",
            "Epoch 92/100\n",
            "10/10 [==============================] - 0s 3ms/step - loss: 44.4525 - lr: 3.5481e-04\n",
            "Epoch 93/100\n",
            "10/10 [==============================] - 0s 3ms/step - loss: 39.2361 - lr: 3.9811e-04\n",
            "Epoch 94/100\n",
            "10/10 [==============================] - 0s 3ms/step - loss: 74.1953 - lr: 4.4668e-04\n",
            "Epoch 95/100\n",
            "10/10 [==============================] - 0s 3ms/step - loss: 85.5936 - lr: 5.0119e-04\n",
            "Epoch 96/100\n",
            "10/10 [==============================] - 0s 4ms/step - loss: 102.0383 - lr: 5.6234e-04\n",
            "Epoch 97/100\n",
            "10/10 [==============================] - 0s 4ms/step - loss: 79.2023 - lr: 6.3096e-04\n",
            "Epoch 98/100\n",
            "10/10 [==============================] - 0s 3ms/step - loss: 47.1419 - lr: 7.0795e-04\n",
            "Epoch 99/100\n",
            "10/10 [==============================] - 0s 4ms/step - loss: 45.0986 - lr: 7.9433e-04\n",
            "Epoch 100/100\n",
            "10/10 [==============================] - 0s 3ms/step - loss: 87.0488 - lr: 8.9125e-04\n"
          ]
        }
      ],
      "source": [
        "# Set the learning rate scheduler\n",
        "lr_schedule = tf.keras.callbacks.LearningRateScheduler(\n",
        "    lambda epoch: 1e-8 * 10**(epoch / 20))\n",
        "\n",
        "# Initialize the optimizer\n",
        "optimizer = tf.keras.optimizers.SGD(momentum=0.9)\n",
        "\n",
        "# Set the training parameters\n",
        "model.compile(loss=tf.keras.losses.Huber(), optimizer=optimizer)\n",
        "\n",
        "# Train the model\n",
        "history = model.fit(train_set, epochs=100, callbacks=[lr_schedule])"
      ]
    },
    {
      "cell_type": "code",
      "execution_count": 11,
      "metadata": {
        "id": "xJFAB1NTzGJV",
        "colab": {
          "base_uri": "https://localhost:8080/",
          "height": 558
        },
        "outputId": "cd4d1c8e-2d62-4cb3-8af0-5dab8453d51f"
      },
      "outputs": [
        {
          "output_type": "execute_result",
          "data": {
            "text/plain": [
              "(1e-08, 0.001, 0.0, 100.0)"
            ]
          },
          "metadata": {},
          "execution_count": 11
        },
        {
          "output_type": "display_data",
          "data": {
            "text/plain": [
              "<Figure size 1000x600 with 1 Axes>"
            ],
            "image/png": "[encoded data removed]"
          },
          "metadata": {}
        }
      ],
      "source": [
        "# Define the learning rate array\n",
        "lrs = 1e-8 * (10 ** (np.arange(100) / 20))\n",
        "\n",
        "# Set the figure size\n",
        "plt.figure(figsize=(10, 6))\n",
        "\n",
        "# Set the grid\n",
        "plt.grid(True)\n",
        "\n",
        "# Plot the loss in log scale\n",
        "plt.semilogx(lrs, history.history[\"loss\"])\n",
        "\n",
        "# Increase the tickmarks size\n",
        "plt.tick_params('both', length=10, width=1, which='both')\n",
        "\n",
        "# Set the plot boundaries\n",
        "plt.axis([1e-8, 1e-3, 0, 100])"
      ]
    },
    {
      "cell_type": "markdown",
      "metadata": {
        "id": "oY4mnUpNbFdc"
      },
      "source": [
        "## Train the Model\n",
        "\n",
        "Once we've picked a learning rate, we can rebuild the model and start training."
      ]
    },
    {
      "cell_type": "code",
      "execution_count": 12,
      "metadata": {
        "id": "Ngna3zR4znJd"
      },
      "outputs": [],
      "source": [
        "# Reset states generated by Keras\n",
        "tf.keras.backend.clear_session()\n",
        "\n",
        "# Build the Model\n",
        "model = tf.keras.models.Sequential([\n",
        "    tf.keras.layers.Dense(12, input_shape=[window_size], activation=\"relu\"),\n",
        "    tf.keras.layers.Dense(11, activation=\"relu\"),\n",
        "    tf.keras.layers.Dense(11, activation=\"relu\"),\n",
        "    tf.keras.layers.Dense(1)\n",
        "])"
      ]
    },
    {
      "cell_type": "code",
      "execution_count": 13,
      "metadata": {
        "id": "7FKXvEYxzuoc",
        "colab": {
          "base_uri": "https://localhost:8080/"
        },
        "outputId": "3962c570-f412-4552-8346-928836aaec2f"
      },
      "outputs": [
        {
          "output_type": "stream",
          "name": "stdout",
          "text": [
            "Epoch 1/100\n",
            "10/10 [==============================] - 1s 6ms/step - loss: 42.2651 - mae: 42.7651\n",
            "Epoch 2/100\n",
            "10/10 [==============================] - 0s 4ms/step - loss: 13.3313 - mae: 13.8235\n",
            "Epoch 3/100\n",
            "10/10 [==============================] - 0s 4ms/step - loss: 8.0721 - mae: 8.5639\n",
            "Epoch 4/100\n",
            "10/10 [==============================] - 0s 3ms/step - loss: 4.1990 - mae: 4.6664\n",
            "Epoch 5/100\n",
            "10/10 [==============================] - 0s 4ms/step - loss: 4.8354 - mae: 5.3104\n",
            "Epoch 6/100\n",
            "10/10 [==============================] - 0s 3ms/step - loss: 3.8691 - mae: 4.3470\n",
            "Epoch 7/100\n",
            "10/10 [==============================] - 0s 4ms/step - loss: 3.2898 - mae: 3.7552\n",
            "Epoch 8/100\n",
            "10/10 [==============================] - 0s 3ms/step - loss: 3.8482 - mae: 4.3289\n",
            "Epoch 9/100\n",
            "10/10 [==============================] - 0s 4ms/step - loss: 4.2323 - mae: 4.7148\n",
            "Epoch 10/100\n",
            "10/10 [==============================] - 0s 4ms/step - loss: 3.2774 - mae: 3.7479\n",
            "Epoch 11/100\n",
            "10/10 [==============================] - 0s 4ms/step - loss: 2.9161 - mae: 3.3969\n",
            "Epoch 12/100\n",
            "10/10 [==============================] - 0s 3ms/step - loss: 2.2341 - mae: 2.6868\n",
            "Epoch 13/100\n",
            "10/10 [==============================] - 0s 4ms/step - loss: 2.1317 - mae: 2.5697\n",
            "Epoch 14/100\n",
            "10/10 [==============================] - 0s 4ms/step - loss: 2.5029 - mae: 2.9570\n",
            "Epoch 15/100\n",
            "10/10 [==============================] - 0s 3ms/step - loss: 2.1788 - mae: 2.6184\n",
            "Epoch 16/100\n",
            "10/10 [==============================] - 0s 4ms/step - loss: 1.9659 - mae: 2.4093\n",
            "Epoch 17/100\n",
            "10/10 [==============================] - 0s 4ms/step - loss: 1.8238 - mae: 2.2684\n",
            "Epoch 18/100\n",
            "10/10 [==============================] - 0s 4ms/step - loss: 2.3698 - mae: 2.8202\n",
            "Epoch 19/100\n",
            "10/10 [==============================] - 0s 4ms/step - loss: 1.7671 - mae: 2.2151\n",
            "Epoch 20/100\n",
            "10/10 [==============================] - 0s 3ms/step - loss: 1.8012 - mae: 2.2409\n",
            "Epoch 21/100\n",
            "10/10 [==============================] - 0s 5ms/step - loss: 1.6431 - mae: 2.0674\n",
            "Epoch 22/100\n",
            "10/10 [==============================] - 0s 3ms/step - loss: 1.9062 - mae: 2.3537\n",
            "Epoch 23/100\n",
            "10/10 [==============================] - 0s 4ms/step - loss: 1.8901 - mae: 2.3414\n",
            "Epoch 24/100\n",
            "10/10 [==============================] - 0s 4ms/step - loss: 1.6794 - mae: 2.1213\n",
            "Epoch 25/100\n",
            "10/10 [==============================] - 0s 4ms/step - loss: 2.1046 - mae: 2.5526\n",
            "Epoch 26/100\n",
            "10/10 [==============================] - 0s 4ms/step - loss: 2.3065 - mae: 2.7560\n",
            "Epoch 27/100\n",
            "10/10 [==============================] - 0s 4ms/step - loss: 2.1947 - mae: 2.6560\n",
            "Epoch 28/100\n",
            "10/10 [==============================] - 0s 4ms/step - loss: 1.7207 - mae: 2.1535\n",
            "Epoch 29/100\n",
            "10/10 [==============================] - 0s 4ms/step - loss: 2.3353 - mae: 2.8095\n",
            "Epoch 30/100\n",
            "10/10 [==============================] - 0s 4ms/step - loss: 1.6022 - mae: 2.0335\n",
            "Epoch 31/100\n",
            "10/10 [==============================] - 0s 4ms/step - loss: 1.4041 - mae: 1.8193\n",
            "Epoch 32/100\n",
            "10/10 [==============================] - 0s 4ms/step - loss: 1.5694 - mae: 2.0047\n",
            "Epoch 33/100\n",
            "10/10 [==============================] - 0s 4ms/step - loss: 1.7914 - mae: 2.2430\n",
            "Epoch 34/100\n",
            "10/10 [==============================] - 0s 4ms/step - loss: 2.0017 - mae: 2.4376\n",
            "Epoch 35/100\n",
            "10/10 [==============================] - 0s 4ms/step - loss: 1.8374 - mae: 2.2832\n",
            "Epoch 36/100\n",
            "10/10 [==============================] - 0s 4ms/step - loss: 1.3218 - mae: 1.7158\n",
            "Epoch 37/100\n",
            "10/10 [==============================] - 0s 4ms/step - loss: 1.5881 - mae: 2.0152\n",
            "Epoch 38/100\n",
            "10/10 [==============================] - 0s 4ms/step - loss: 1.4008 - mae: 1.8164\n",
            "Epoch 39/100\n",
            "10/10 [==============================] - 0s 4ms/step - loss: 1.4376 - mae: 1.8690\n",
            "Epoch 40/100\n",
            "10/10 [==============================] - 0s 5ms/step - loss: 2.0168 - mae: 2.4722\n",
            "Epoch 41/100\n",
            "10/10 [==============================] - 0s 4ms/step - loss: 1.9943 - mae: 2.4489\n",
            "Epoch 42/100\n",
            "10/10 [==============================] - 0s 4ms/step - loss: 2.1264 - mae: 2.5906\n",
            "Epoch 43/100\n",
            "10/10 [==============================] - 0s 3ms/step - loss: 2.0930 - mae: 2.5617\n",
            "Epoch 44/100\n",
            "10/10 [==============================] - 0s 4ms/step - loss: 2.6518 - mae: 3.1227\n",
            "Epoch 45/100\n",
            "10/10 [==============================] - 0s 4ms/step - loss: 2.4822 - mae: 2.9524\n",
            "Epoch 46/100\n",
            "10/10 [==============================] - 0s 5ms/step - loss: 1.4702 - mae: 1.9055\n",
            "Epoch 47/100\n",
            "10/10 [==============================] - 0s 4ms/step - loss: 1.2303 - mae: 1.6396\n",
            "Epoch 48/100\n",
            "10/10 [==============================] - 0s 4ms/step - loss: 1.3490 - mae: 1.7839\n",
            "Epoch 49/100\n",
            "10/10 [==============================] - 0s 4ms/step - loss: 1.2393 - mae: 1.6449\n",
            "Epoch 50/100\n",
            "10/10 [==============================] - 0s 4ms/step - loss: 1.3057 - mae: 1.7204\n",
            "Epoch 51/100\n",
            "10/10 [==============================] - 0s 4ms/step - loss: 2.0491 - mae: 2.5160\n",
            "Epoch 52/100\n",
            "10/10 [==============================] - 0s 4ms/step - loss: 2.4760 - mae: 2.9616\n",
            "Epoch 53/100\n",
            "10/10 [==============================] - 0s 4ms/step - loss: 1.9226 - mae: 2.3645\n",
            "Epoch 54/100\n",
            "10/10 [==============================] - 0s 4ms/step - loss: 1.6426 - mae: 2.0702\n",
            "Epoch 55/100\n",
            "10/10 [==============================] - 0s 4ms/step - loss: 1.8454 - mae: 2.2988\n",
            "Epoch 56/100\n",
            "10/10 [==============================] - 0s 4ms/step - loss: 2.4717 - mae: 2.9356\n",
            "Epoch 57/100\n",
            "10/10 [==============================] - 0s 4ms/step - loss: 1.6534 - mae: 2.0914\n",
            "Epoch 58/100\n",
            "10/10 [==============================] - 0s 6ms/step - loss: 1.3055 - mae: 1.7306\n",
            "Epoch 59/100\n",
            "10/10 [==============================] - 0s 4ms/step - loss: 1.2719 - mae: 1.6968\n",
            "Epoch 60/100\n",
            "10/10 [==============================] - 0s 4ms/step - loss: 1.3333 - mae: 1.7505\n",
            "Epoch 61/100\n",
            "10/10 [==============================] - 0s 4ms/step - loss: 1.5172 - mae: 1.9662\n",
            "Epoch 62/100\n",
            "10/10 [==============================] - 0s 4ms/step - loss: 1.2599 - mae: 1.6659\n",
            "Epoch 63/100\n",
            "10/10 [==============================] - 0s 4ms/step - loss: 1.5777 - mae: 2.0339\n",
            "Epoch 64/100\n",
            "10/10 [==============================] - 0s 5ms/step - loss: 1.3016 - mae: 1.7191\n",
            "Epoch 65/100\n",
            "10/10 [==============================] - 0s 4ms/step - loss: 1.3138 - mae: 1.7537\n",
            "Epoch 66/100\n",
            "10/10 [==============================] - 0s 4ms/step - loss: 1.3232 - mae: 1.7443\n",
            "Epoch 67/100\n",
            "10/10 [==============================] - 0s 4ms/step - loss: 1.0879 - mae: 1.4798\n",
            "Epoch 68/100\n",
            "10/10 [==============================] - 0s 4ms/step - loss: 1.0997 - mae: 1.5030\n",
            "Epoch 69/100\n",
            "10/10 [==============================] - 0s 4ms/step - loss: 1.4230 - mae: 1.8408\n",
            "Epoch 70/100\n",
            "10/10 [==============================] - 0s 4ms/step - loss: 1.3508 - mae: 1.7865\n",
            "Epoch 71/100\n",
            "10/10 [==============================] - 0s 4ms/step - loss: 1.2256 - mae: 1.6352\n",
            "Epoch 72/100\n",
            "10/10 [==============================] - 0s 4ms/step - loss: 1.6180 - mae: 2.0574\n",
            "Epoch 73/100\n",
            "10/10 [==============================] - 0s 4ms/step - loss: 1.1741 - mae: 1.5860\n",
            "Epoch 74/100\n",
            "10/10 [==============================] - 0s 4ms/step - loss: 1.1444 - mae: 1.5414\n",
            "Epoch 75/100\n",
            "10/10 [==============================] - 0s 4ms/step - loss: 1.3089 - mae: 1.7366\n",
            "Epoch 76/100\n",
            "10/10 [==============================] - 0s 4ms/step - loss: 1.2069 - mae: 1.6187\n",
            "Epoch 77/100\n",
            "10/10 [==============================] - 0s 4ms/step - loss: 1.3297 - mae: 1.7639\n",
            "Epoch 78/100\n",
            "10/10 [==============================] - 0s 4ms/step - loss: 1.3749 - mae: 1.7825\n",
            "Epoch 79/100\n",
            "10/10 [==============================] - 0s 4ms/step - loss: 1.0901 - mae: 1.4917\n",
            "Epoch 80/100\n",
            "10/10 [==============================] - 0s 4ms/step - loss: 1.2582 - mae: 1.6883\n",
            "Epoch 81/100\n",
            "10/10 [==============================] - 0s 4ms/step - loss: 2.4914 - mae: 2.9744\n",
            "Epoch 82/100\n",
            "10/10 [==============================] - 0s 4ms/step - loss: 1.6430 - mae: 2.0799\n",
            "Epoch 83/100\n",
            "10/10 [==============================] - 0s 5ms/step - loss: 1.1171 - mae: 1.5252\n",
            "Epoch 84/100\n",
            "10/10 [==============================] - 0s 4ms/step - loss: 1.0064 - mae: 1.3910\n",
            "Epoch 85/100\n",
            "10/10 [==============================] - 0s 4ms/step - loss: 1.0821 - mae: 1.4811\n",
            "Epoch 86/100\n",
            "10/10 [==============================] - 0s 4ms/step - loss: 1.2499 - mae: 1.6659\n",
            "Epoch 87/100\n",
            "10/10 [==============================] - 0s 4ms/step - loss: 1.2534 - mae: 1.6713\n",
            "Epoch 88/100\n",
            "10/10 [==============================] - 0s 4ms/step - loss: 1.1443 - mae: 1.5612\n",
            "Epoch 89/100\n",
            "10/10 [==============================] - 0s 4ms/step - loss: 1.0032 - mae: 1.3967\n",
            "Epoch 90/100\n",
            "10/10 [==============================] - 0s 3ms/step - loss: 1.2951 - mae: 1.7212\n",
            "Epoch 91/100\n",
            "10/10 [==============================] - 0s 4ms/step - loss: 1.4521 - mae: 1.8986\n",
            "Epoch 92/100\n",
            "10/10 [==============================] - 0s 3ms/step - loss: 1.0890 - mae: 1.4915\n",
            "Epoch 93/100\n",
            "10/10 [==============================] - 0s 4ms/step - loss: 1.2458 - mae: 1.6495\n",
            "Epoch 94/100\n",
            "10/10 [==============================] - 0s 4ms/step - loss: 1.4142 - mae: 1.8546\n",
            "Epoch 95/100\n",
            "10/10 [==============================] - 0s 4ms/step - loss: 1.2695 - mae: 1.6976\n",
            "Epoch 96/100\n",
            "10/10 [==============================] - 0s 4ms/step - loss: 1.2624 - mae: 1.6884\n",
            "Epoch 97/100\n",
            "10/10 [==============================] - 0s 4ms/step - loss: 1.2154 - mae: 1.6474\n",
            "Epoch 98/100\n",
            "10/10 [==============================] - 0s 4ms/step - loss: 1.0415 - mae: 1.4481\n",
            "Epoch 99/100\n",
            "10/10 [==============================] - 0s 4ms/step - loss: 1.5987 - mae: 2.0434\n",
            "Epoch 100/100\n",
            "10/10 [==============================] - 0s 4ms/step - loss: 1.4502 - mae: 1.8778\n"
          ]
        }
      ],
      "source": [
        "# Set the learning rate\n",
        "learning_rate = 2e-5\n",
        "\n",
        "# Set the optimizer\n",
        "optimizer = tf.keras.optimizers.SGD(learning_rate=learning_rate, momentum=0.9)\n",
        "\n",
        "# Set the training parameters\n",
        "model.compile(loss=tf.keras.losses.Huber(),\n",
        "              optimizer=optimizer,\n",
        "              metrics=[\"mae\"])\n",
        "\n",
        "# Train the model\n",
        "history = model.fit(train_set,epochs=100)"
      ]
    },
    {
      "cell_type": "markdown",
      "metadata": {
        "id": "b1iV2t8ibIka"
      },
      "source": [
        "## Model Prediction\n",
        "\n",
        "Now see if the model generates good results. We should see the predictions follow the shape of the ground truth with an MAE."
      ]
    },
    {
      "cell_type": "code",
      "execution_count": 14,
      "metadata": {
        "id": "djn06Tri2B6_"
      },
      "outputs": [],
      "source": [
        "def model_forecast(model, series, window_size, batch_size):\n",
        "    \"\"\"Uses an input model to generate predictions on data windows\n",
        "\n",
        "    Args:\n",
        "      model (TF Keras Model) - model that accepts data windows\n",
        "      series (array of float) - contains the values of the time series\n",
        "      window_size (int) - the number of time steps to include in the window\n",
        "      batch_size (int) - the batch size\n",
        "\n",
        "    Returns:\n",
        "      forecast (numpy array) - array containing predictions\n",
        "    \"\"\"\n",
        "\n",
        "    # Generate a TF Dataset from the series values\n",
        "    dataset = tf.data.Dataset.from_tensor_slices(series)\n",
        "\n",
        "    # Window the data but only take those with the specified size\n",
        "    dataset = dataset.window(window_size, shift=1, drop_remainder=True)\n",
        "\n",
        "    # Flatten the windows by putting its elements in a single batch\n",
        "    dataset = dataset.flat_map(lambda w: w.batch(window_size))\n",
        "\n",
        "    # Create batches of windows\n",
        "    dataset = dataset.batch(batch_size).prefetch(1)\n",
        "\n",
        "    # Get predictions on the entire dataset\n",
        "    forecast = model.predict(dataset)\n",
        "\n",
        "    return forecast"
      ]
    },
    {
      "cell_type": "code",
      "execution_count": 15,
      "metadata": {
        "id": "GaC6NNMRp0lb",
        "colab": {
          "base_uri": "https://localhost:8080/",
          "height": 539
        },
        "outputId": "87506fb7-67ad-4dc2-cf6c-add2b229849d"
      },
      "outputs": [
        {
          "output_type": "stream",
          "name": "stdout",
          "text": [
            "2/2 [==============================] - 0s 10ms/step\n"
          ]
        },
        {
          "output_type": "display_data",
          "data": {
            "text/plain": [
              "<Figure size 1000x600 with 1 Axes>"
            ],
            "image/png": "[encoded data removed]"
          },
          "metadata": {}
        }
      ],
      "source": [
        "# Reduce the original series\n",
        "forecast_series = series[split_time-window_size:-1]\n",
        "\n",
        "# Use helper function to generate predictions\n",
        "forecast = model_forecast(model, forecast_series, window_size, batch_size)\n",
        "\n",
        "# Drop single dimensional axis\n",
        "results = forecast.squeeze()\n",
        "\n",
        "# Plot the results\n",
        "plot_series(time_valid, (x_valid, results))"
      ]
    },
    {
      "cell_type": "code",
      "execution_count": 16,
      "metadata": {
        "id": "13XrorC5wQoE",
        "colab": {
          "base_uri": "https://localhost:8080/"
        },
        "outputId": "e4bc6835-3cfb-412c-9c39-ded29726efc2"
      },
      "outputs": [
        {
          "output_type": "stream",
          "name": "stdout",
          "text": [
            "1.0225216\n"
          ]
        }
      ],
      "source": [
        "# Compute the MAE\n",
        "print(tf.keras.metrics.mean_absolute_error(x_valid, results).numpy())"
      ]
    }
  ],
  "metadata": {
    "colab": {
      "provenance": [],
      "gpuType": "T4"
    },
    "kernelspec": {
      "display_name": "Python 3",
      "name": "python3"
    },
    "language_info": {
      "codemirror_mode": {
        "name": "ipython",
        "version": 3
      },
      "file_extension": ".py",
      "mimetype": "text/x-python",
      "name": "python",
      "nbconvert_exporter": "python",
      "pygments_lexer": "ipython3",
      "version": "3.7.4"
    },
    "accelerator": "GPU"
  },
  "nbformat": 4,
  "nbformat_minor": 0
}