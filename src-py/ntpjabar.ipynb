{
  "cells": [
    {
      "cell_type": "markdown",
      "metadata": {
        "id": "2g85ZfH2prbx"
      },
      "source": [
        "<a href=\"https://colab.research.google.com/github/adeiskandarzulkarnaen/prediksi-ntp/blob/main/src-py/ntpjabar.ipynb\" target=\"_parent\"><img src=\"https://colab.research.google.com/assets/colab-badge.svg\" alt=\"Open In Colab\"/></a>"
      ]
    },
    {
      "cell_type": "markdown",
      "metadata": {
        "id": "JQsk1BKwZrBh"
      },
      "source": [
        "# Predicting Farmer's Term Of Trade with Neural Networks (DNN only)\n",
        "\n",
        " In particular, we will train on the ntp data sourced from official government portal [prov. Jawa Barat](https://opendata.jabarprov.go.id/id/dataset/nilai-tukar-petani-ntp-berdasarkan-kategori-bulan-di-jawa-barat): a monthly record of ntp numbers from January 2006 to December 2019. We will first build a deep neural network here composed of dense layers.\n",
        "\n",
        "Let's begin!"
      ]
    },
    {
      "cell_type": "markdown",
      "metadata": {
        "id": "2JHlrB12aeFD"
      },
      "source": [
        "## Imports\n",
        "\n",
        "We will use the addition of the [csv](https://docs.python.org/3/library/csv.html) module. We will need this to parse the CSV file containing the dataset."
      ]
    },
    {
      "cell_type": "code",
      "execution_count": 1,
      "metadata": {
        "id": "56XEQOGknrAk"
      },
      "outputs": [],
      "source": [
        "import tensorflow as tf\n",
        "import numpy as np\n",
        "import matplotlib.pyplot as plt\n",
        "import csv"
      ]
    },
    {
      "cell_type": "markdown",
      "metadata": {
        "id": "D-mNttnaagBH"
      },
      "source": [
        "## Utilities\n",
        "\n",
        "We will be plotting several graphs in this notebook so it's good to have a utility function for that. The following code will visualize numpy arrays into a graph using Pyplot's plot() method. The unit for this training we can think of as months, starting from jan 2006 to dec 2019. The y-axis will contain the measured values at each time step."
      ]
    },
    {
      "cell_type": "code",
      "execution_count": 2,
      "metadata": {
        "id": "sLl52leVp5wU"
      },
      "outputs": [],
      "source": [
        "def plot_series(x, y, format=\"-\", start=0, end=None,\n",
        "                title=None, xlabel=None, ylabel=None, legend=None ):\n",
        "    \"\"\"\n",
        "    Visualizes time series data\n",
        "\n",
        "    Args:\n",
        "      x (array of int) - contains values for the x-axis\n",
        "      y (array of int or tuple of arrays) - contains the values for the y-axis\n",
        "      format (string) - line style when plotting the graph\n",
        "      label (string) - tag for the line\n",
        "      start (int) - first time step to plot\n",
        "      end (int) - last time step to plot\n",
        "      title (string) - title of the plot\n",
        "      xlabel (string) - label for the x-axis\n",
        "      ylabel (string) - label for the y-axis\n",
        "      legend (list of strings) - legend for the plot\n",
        "    \"\"\"\n",
        "\n",
        "    # Setup dimensions of the graph figure\n",
        "    plt.figure(figsize=(10, 6))\n",
        "\n",
        "    # Check if there are more than two series to plot\n",
        "    if type(y) is tuple:\n",
        "\n",
        "      # Loop over the y elements\n",
        "      for y_curr in y:\n",
        "\n",
        "        # Plot the x and current y values\n",
        "        plt.plot(x[start:end], y_curr[start:end], format)\n",
        "\n",
        "    else:\n",
        "      # Plot the x and y values\n",
        "      plt.plot(x[start:end], y[start:end], format)\n",
        "\n",
        "    # Label the x-axis\n",
        "    plt.xlabel(xlabel)\n",
        "    # plt.xticks(range(0, max(x) + 12, 12))\n",
        "\n",
        "    # Label the y-axis\n",
        "    plt.ylabel(ylabel)\n",
        "    # plt.ylim(50, max(y) + 10)\n",
        "\n",
        "    # Set the legend\n",
        "    if legend:\n",
        "      plt.legend(legend)\n",
        "\n",
        "    # Set the title\n",
        "    plt.title(title)\n",
        "\n",
        "    # Overlay a grid on the graph\n",
        "    plt.grid(True)\n",
        "\n",
        "    # Draw the graph on screen\n",
        "    plt.show()"
      ]
    },
    {
      "cell_type": "markdown",
      "metadata": {
        "id": "dFJv45pDauS8"
      },
      "source": [
        "## Download and Preview the Dataset\n",
        "\n",
        "we can now download the dataset and inspect the contents. The link in class is from ade's repo but we also hosted it in the link below."
      ]
    },
    {
      "cell_type": "code",
      "execution_count": 3,
      "metadata": {
        "id": "YwI-si5xyUkQ",
        "colab": {
          "base_uri": "https://localhost:8080/"
        },
        "outputId": "905026c0-6b7e-4681-df7b-76b32fc237b0"
      },
      "outputs": [
        {
          "output_type": "stream",
          "name": "stdout",
          "text": [
            "--2024-01-09 03:52:16--  https://raw.githubusercontent.com/adeiskandarzulkarnaen/prediksi-ntp/main/src-py/ntpjabar.csv\n",
            "Resolving raw.githubusercontent.com (raw.githubusercontent.com)... 185.199.108.133, 185.199.109.133, 185.199.110.133, ...\n",
            "Connecting to raw.githubusercontent.com (raw.githubusercontent.com)|185.199.108.133|:443... connected.\n",
            "HTTP request sent, awaiting response... 200 OK\n",
            "Length: 3075 (3.0K) [text/plain]\n",
            "Saving to: ‘ntpjabar.csv’\n",
            "\n",
            "\rntpjabar.csv          0%[                    ]       0  --.-KB/s               \rntpjabar.csv        100%[===================>]   3.00K  --.-KB/s    in 0s      \n",
            "\n",
            "2024-01-09 03:52:16 (51.5 MB/s) - ‘ntpjabar.csv’ saved [3075/3075]\n",
            "\n"
          ]
        }
      ],
      "source": [
        "# Download the dataset\n",
        "!wget https://raw.githubusercontent.com/adeiskandarzulkarnaen/prediksi-ntp/main/src-py/ntpjabar.csv\n"
      ]
    },
    {
      "cell_type": "markdown",
      "metadata": {
        "id": "c0fAiMytrwPJ"
      },
      "source": [
        "Running the cell below, we'll see that there are only three columns in the dataset:\n",
        "1. no column containing the number of data\n",
        "2. Year and Month which has the format `YYYY-MM`\n",
        "3. NTP value"
      ]
    },
    {
      "cell_type": "code",
      "execution_count": 4,
      "metadata": {
        "id": "d5W2auXKrhVh",
        "colab": {
          "base_uri": "https://localhost:8080/"
        },
        "outputId": "c7c712dd-f335-4dd4-f1dc-dc9b6b8ffdc2"
      },
      "outputs": [
        {
          "output_type": "stream",
          "name": "stdout",
          "text": [
            "no,year-month,ntp value\n",
            "1,2006-01,113.67\n",
            "2,2006-02,113.10\n",
            "3,2006-03,113.58\n",
            "4,2006-04,112.26\n",
            "5,2006-05,111.33\n",
            "6,2006-06,112.86\n",
            "7,2006-07,115.02\n",
            "8,2006-08,117.55\n",
            "9,2006-09,116.83\n"
          ]
        }
      ],
      "source": [
        "# Preview the dataset\n",
        "!head ntpjabar.csv"
      ]
    },
    {
      "cell_type": "markdown",
      "metadata": {
        "id": "lbs-Y2SDsVaw"
      },
      "source": [
        "For this lab, we will only need the time steps and the ntp values. We will load those into memory and convert it to arrays that represents a time series."
      ]
    },
    {
      "cell_type": "code",
      "execution_count": 5,
      "metadata": {
        "id": "NcG9r1eClbTh",
        "colab": {
          "base_uri": "https://localhost:8080/",
          "height": 0
        },
        "outputId": "0931d7ec-b705-4980-ebe3-c7958c2ef120"
      },
      "outputs": [
        {
          "output_type": "display_data",
          "data": {
            "text/plain": [
              "<Figure size 1000x600 with 1 Axes>"
            ],
            "image/png": "[encoded data removed]"
          },
          "metadata": {}
        }
      ],
      "source": [
        "# Initialize lists\n",
        "time_step = []\n",
        "ntp_values = []\n",
        "\n",
        "# Open CSV file\n",
        "with open('./ntpjabar.csv') as csvfile:\n",
        "  # Initialize reader\n",
        "  reader = csv.reader(csvfile, delimiter=',')\n",
        "\n",
        "  # Skip the first line\n",
        "  next(reader)\n",
        "\n",
        "  # Append row and ntp values to lists\n",
        "  for row in reader:\n",
        "    time_step.append(int(row[0]))\n",
        "    ntp_values.append(float(row[2]))\n",
        "\n",
        "\n",
        "# Convert lists to numpy arrays\n",
        "time = np.array(time_step)\n",
        "series = np.array(ntp_values)\n",
        "\n",
        "# Preview the data\n",
        "plot_series(time, series, xlabel='Months from Jan 2006 to Dec 2019', ylabel='NTP value')"
      ]
    },
    {
      "cell_type": "markdown",
      "metadata": {
        "id": "EUQE9RRoazC5"
      },
      "source": [
        "## Split the Dataset\n",
        "\n",
        "Next, we will split the dataset into training and validation sets. There are 168 points in the dataset and we will use the first 144 for training."
      ]
    },
    {
      "cell_type": "code",
      "execution_count": 6,
      "metadata": {
        "id": "L92YRw_IpCFG"
      },
      "outputs": [],
      "source": [
        "# Define the split time\n",
        "split_time = 144\n",
        "\n",
        "# Get the train set\n",
        "time_train = time[:split_time]\n",
        "x_train = series[:split_time]\n",
        "\n",
        "# Get the validation set\n",
        "time_valid = time[split_time:]\n",
        "x_valid = series[split_time:]"
      ]
    },
    {
      "cell_type": "markdown",
      "metadata": {
        "id": "RbuIOrb3a093"
      },
      "source": [
        "## Prepare Features and Labels\n",
        "\n",
        "We can then prepare the dataset windows. The window size is set to 12 points (equal to 1 year) but feel free to change later on if we want to experiment."
      ]
    },
    {
      "cell_type": "code",
      "execution_count": 7,
      "metadata": {
        "id": "lJwUUZscnG38"
      },
      "outputs": [],
      "source": [
        "def windowed_dataset(series, window_size, batch_size, shuffle_buffer):\n",
        "    \"\"\"Generates dataset windows\n",
        "\n",
        "    Args:\n",
        "      series (array of float) - contains the values of the time series\n",
        "      window_size (int) - the number of time steps to include in the feature\n",
        "      batch_size (int) - the batch size\n",
        "      shuffle_buffer(int) - buffer size to use for the shuffle method\n",
        "\n",
        "    Returns:\n",
        "      dataset (TF Dataset) - TF Dataset containing time windows\n",
        "    \"\"\"\n",
        "\n",
        "    # Generate a TF Dataset from the series values\n",
        "    dataset = tf.data.Dataset.from_tensor_slices(series)\n",
        "\n",
        "    # Window the data but only take those with the specified size\n",
        "    dataset = dataset.window(window_size + 1, shift=1, drop_remainder=True)\n",
        "\n",
        "    # Flatten the windows by putting its elements in a single batch\n",
        "    dataset = dataset.flat_map(lambda window: window.batch(window_size + 1))\n",
        "\n",
        "    # Create tuples with features and labels\n",
        "    dataset = dataset.map(lambda window: (window[:-1], window[-1]))\n",
        "\n",
        "    # Shuffle the windows\n",
        "    dataset = dataset.shuffle(shuffle_buffer)\n",
        "\n",
        "    # Create batches of windows\n",
        "    dataset = dataset.batch(batch_size).prefetch(1)\n",
        "\n",
        "    return dataset"
      ]
    },
    {
      "cell_type": "code",
      "execution_count": 8,
      "metadata": {
        "id": "9g5zSxZwZQt_"
      },
      "outputs": [],
      "source": [
        "# Parameters\n",
        "window_size = 12\n",
        "batch_size = 14\n",
        "shuffle_buffer_size = 1000\n",
        "\n",
        "# Generate the dataset windows\n",
        "train_set = windowed_dataset(x_train, window_size, batch_size, shuffle_buffer_size)"
      ]
    },
    {
      "cell_type": "markdown",
      "metadata": {
        "id": "_Lhpi42ta5yP"
      },
      "source": [
        "## Build the Model\n",
        "\n",
        "The model will be 3-layer dense network as shown below."
      ]
    },
    {
      "cell_type": "code",
      "execution_count": 9,
      "metadata": {
        "id": "AclfYY3Mn6Ph",
        "colab": {
          "base_uri": "https://localhost:8080/"
        },
        "outputId": "3537ac14-6620-452c-97a4-64333f3a6c95"
      },
      "outputs": [
        {
          "output_type": "stream",
          "name": "stdout",
          "text": [
            "Model: \"sequential\"\n",
            "_________________________________________________________________\n",
            " Layer (type)                Output Shape              Param #   \n",
            "=================================================================\n",
            " dense (Dense)               (None, 12)                156       \n",
            "                                                                 \n",
            " dense_1 (Dense)             (None, 11)                143       \n",
            "                                                                 \n",
            " dense_2 (Dense)             (None, 11)                132       \n",
            "                                                                 \n",
            " dense_3 (Dense)             (None, 1)                 12        \n",
            "                                                                 \n",
            "=================================================================\n",
            "Total params: 443 (1.73 KB)\n",
            "Trainable params: 443 (1.73 KB)\n",
            "Non-trainable params: 0 (0.00 Byte)\n",
            "_________________________________________________________________\n"
          ]
        }
      ],
      "source": [
        "# Build the model\n",
        "model = tf.keras.models.Sequential([\n",
        "    tf.keras.layers.Dense(12, input_shape=[window_size], activation=\"relu\"),\n",
        "    tf.keras.layers.Dense(11, activation=\"relu\"),\n",
        "    tf.keras.layers.Dense(11, activation=\"relu\"),\n",
        "    tf.keras.layers.Dense(1)\n",
        "])\n",
        "\n",
        "# Print the model summary\n",
        "model.summary()"
      ]
    },
    {
      "cell_type": "markdown",
      "metadata": {
        "id": "uyT14hQOa97V"
      },
      "source": [
        "## Tune the Learning Rate\n",
        "\n",
        "We can pick a learning rate by running the learning rate scheduler code."
      ]
    },
    {
      "cell_type": "code",
      "execution_count": 10,
      "metadata": {
        "id": "GXiqsZQ1y4nD",
        "colab": {
          "base_uri": "https://localhost:8080/"
        },
        "outputId": "c3663bc6-7509-4135-a949-b2228a96b006"
      },
      "outputs": [
        {
          "output_type": "stream",
          "name": "stdout",
          "text": [
            "Epoch 1/100\n",
            "10/10 [==============================] - 3s 10ms/step - loss: 148.7639 - lr: 1.0000e-08\n",
            "Epoch 2/100\n",
            "10/10 [==============================] - 0s 5ms/step - loss: 148.6772 - lr: 1.1220e-08\n",
            "Epoch 3/100\n",
            "10/10 [==============================] - 0s 5ms/step - loss: 148.5447 - lr: 1.2589e-08\n",
            "Epoch 4/100\n",
            "10/10 [==============================] - 0s 4ms/step - loss: 148.3828 - lr: 1.4125e-08\n",
            "Epoch 5/100\n",
            "10/10 [==============================] - 0s 5ms/step - loss: 148.1971 - lr: 1.5849e-08\n",
            "Epoch 6/100\n",
            "10/10 [==============================] - 0s 7ms/step - loss: 147.9870 - lr: 1.7783e-08\n",
            "Epoch 7/100\n",
            "10/10 [==============================] - 0s 7ms/step - loss: 147.7511 - lr: 1.9953e-08\n",
            "Epoch 8/100\n",
            "10/10 [==============================] - 0s 8ms/step - loss: 147.4839 - lr: 2.2387e-08\n",
            "Epoch 9/100\n",
            "10/10 [==============================] - 0s 12ms/step - loss: 147.1851 - lr: 2.5119e-08\n",
            "Epoch 10/100\n",
            "10/10 [==============================] - 0s 8ms/step - loss: 146.8501 - lr: 2.8184e-08\n",
            "Epoch 11/100\n",
            "10/10 [==============================] - 0s 6ms/step - loss: 146.4726 - lr: 3.1623e-08\n",
            "Epoch 12/100\n",
            "10/10 [==============================] - 0s 9ms/step - loss: 146.0496 - lr: 3.5481e-08\n",
            "Epoch 13/100\n",
            "10/10 [==============================] - 0s 7ms/step - loss: 145.5740 - lr: 3.9811e-08\n",
            "Epoch 14/100\n",
            "10/10 [==============================] - 0s 10ms/step - loss: 145.0448 - lr: 4.4668e-08\n",
            "Epoch 15/100\n",
            "10/10 [==============================] - 0s 16ms/step - loss: 144.4478 - lr: 5.0119e-08\n",
            "Epoch 16/100\n",
            "10/10 [==============================] - 0s 7ms/step - loss: 143.7827 - lr: 5.6234e-08\n",
            "Epoch 17/100\n",
            "10/10 [==============================] - 0s 7ms/step - loss: 143.0342 - lr: 6.3096e-08\n",
            "Epoch 18/100\n",
            "10/10 [==============================] - 0s 14ms/step - loss: 142.1974 - lr: 7.0795e-08\n",
            "Epoch 19/100\n",
            "10/10 [==============================] - 0s 9ms/step - loss: 141.2531 - lr: 7.9433e-08\n",
            "Epoch 20/100\n",
            "10/10 [==============================] - 0s 9ms/step - loss: 140.2013 - lr: 8.9125e-08\n",
            "Epoch 21/100\n",
            "10/10 [==============================] - 0s 9ms/step - loss: 139.0194 - lr: 1.0000e-07\n",
            "Epoch 22/100\n",
            "10/10 [==============================] - 0s 7ms/step - loss: 137.6987 - lr: 1.1220e-07\n",
            "Epoch 23/100\n",
            "10/10 [==============================] - 0s 5ms/step - loss: 136.2229 - lr: 1.2589e-07\n",
            "Epoch 24/100\n",
            "10/10 [==============================] - 0s 7ms/step - loss: 134.5866 - lr: 1.4125e-07\n",
            "Epoch 25/100\n",
            "10/10 [==============================] - 0s 8ms/step - loss: 132.7496 - lr: 1.5849e-07\n",
            "Epoch 26/100\n",
            "10/10 [==============================] - 0s 5ms/step - loss: 130.7092 - lr: 1.7783e-07\n",
            "Epoch 27/100\n",
            "10/10 [==============================] - 0s 10ms/step - loss: 128.4332 - lr: 1.9953e-07\n",
            "Epoch 28/100\n",
            "10/10 [==============================] - 0s 5ms/step - loss: 125.8937 - lr: 2.2387e-07\n",
            "Epoch 29/100\n",
            "10/10 [==============================] - 0s 7ms/step - loss: 123.0663 - lr: 2.5119e-07\n",
            "Epoch 30/100\n",
            "10/10 [==============================] - 0s 5ms/step - loss: 119.9355 - lr: 2.8184e-07\n",
            "Epoch 31/100\n",
            "10/10 [==============================] - 0s 8ms/step - loss: 116.5465 - lr: 3.1623e-07\n",
            "Epoch 32/100\n",
            "10/10 [==============================] - 0s 7ms/step - loss: 113.0587 - lr: 3.5481e-07\n",
            "Epoch 33/100\n",
            "10/10 [==============================] - 0s 7ms/step - loss: 110.4957 - lr: 3.9811e-07\n",
            "Epoch 34/100\n",
            "10/10 [==============================] - 0s 6ms/step - loss: 108.9624 - lr: 4.4668e-07\n",
            "Epoch 35/100\n",
            "10/10 [==============================] - 0s 6ms/step - loss: 107.4599 - lr: 5.0119e-07\n",
            "Epoch 36/100\n",
            "10/10 [==============================] - 0s 8ms/step - loss: 105.7960 - lr: 5.6234e-07\n",
            "Epoch 37/100\n",
            "10/10 [==============================] - 0s 5ms/step - loss: 103.5163 - lr: 6.3096e-07\n",
            "Epoch 38/100\n",
            "10/10 [==============================] - 0s 4ms/step - loss: 99.6964 - lr: 7.0795e-07\n",
            "Epoch 39/100\n",
            "10/10 [==============================] - 0s 7ms/step - loss: 94.7987 - lr: 7.9433e-07\n",
            "Epoch 40/100\n",
            "10/10 [==============================] - 0s 8ms/step - loss: 89.0272 - lr: 8.9125e-07\n",
            "Epoch 41/100\n",
            "10/10 [==============================] - 0s 8ms/step - loss: 82.3523 - lr: 1.0000e-06\n",
            "Epoch 42/100\n",
            "10/10 [==============================] - 0s 7ms/step - loss: 74.5872 - lr: 1.1220e-06\n",
            "Epoch 43/100\n",
            "10/10 [==============================] - 0s 5ms/step - loss: 66.4437 - lr: 1.2589e-06\n",
            "Epoch 44/100\n",
            "10/10 [==============================] - 0s 7ms/step - loss: 57.6793 - lr: 1.4125e-06\n",
            "Epoch 45/100\n",
            "10/10 [==============================] - 0s 7ms/step - loss: 46.6718 - lr: 1.5849e-06\n",
            "Epoch 46/100\n",
            "10/10 [==============================] - 0s 5ms/step - loss: 32.1908 - lr: 1.7783e-06\n",
            "Epoch 47/100\n",
            "10/10 [==============================] - 0s 8ms/step - loss: 14.8652 - lr: 1.9953e-06\n",
            "Epoch 48/100\n",
            "10/10 [==============================] - 0s 7ms/step - loss: 4.4734 - lr: 2.2387e-06\n",
            "Epoch 49/100\n",
            "10/10 [==============================] - 0s 7ms/step - loss: 3.4574 - lr: 2.5119e-06\n",
            "Epoch 50/100\n",
            "10/10 [==============================] - 0s 5ms/step - loss: 2.6726 - lr: 2.8184e-06\n",
            "Epoch 51/100\n",
            "10/10 [==============================] - 0s 7ms/step - loss: 2.4224 - lr: 3.1623e-06\n",
            "Epoch 52/100\n",
            "10/10 [==============================] - 0s 6ms/step - loss: 2.3564 - lr: 3.5481e-06\n",
            "Epoch 53/100\n",
            "10/10 [==============================] - 0s 6ms/step - loss: 2.3957 - lr: 3.9811e-06\n",
            "Epoch 54/100\n",
            "10/10 [==============================] - 0s 7ms/step - loss: 2.4524 - lr: 4.4668e-06\n",
            "Epoch 55/100\n",
            "10/10 [==============================] - 0s 6ms/step - loss: 2.3543 - lr: 5.0119e-06\n",
            "Epoch 56/100\n",
            "10/10 [==============================] - 0s 7ms/step - loss: 2.3496 - lr: 5.6234e-06\n",
            "Epoch 57/100\n",
            "10/10 [==============================] - 0s 7ms/step - loss: 2.3966 - lr: 6.3096e-06\n",
            "Epoch 58/100\n",
            "10/10 [==============================] - 0s 4ms/step - loss: 2.3382 - lr: 7.0795e-06\n",
            "Epoch 59/100\n",
            "10/10 [==============================] - 0s 5ms/step - loss: 2.3892 - lr: 7.9433e-06\n",
            "Epoch 60/100\n",
            "10/10 [==============================] - 0s 4ms/step - loss: 2.3648 - lr: 8.9125e-06\n",
            "Epoch 61/100\n",
            "10/10 [==============================] - 0s 4ms/step - loss: 2.3580 - lr: 1.0000e-05\n",
            "Epoch 62/100\n",
            "10/10 [==============================] - 0s 3ms/step - loss: 2.3361 - lr: 1.1220e-05\n",
            "Epoch 63/100\n",
            "10/10 [==============================] - 0s 3ms/step - loss: 2.5782 - lr: 1.2589e-05\n",
            "Epoch 64/100\n",
            "10/10 [==============================] - 0s 3ms/step - loss: 2.5731 - lr: 1.4125e-05\n",
            "Epoch 65/100\n",
            "10/10 [==============================] - 0s 3ms/step - loss: 2.4190 - lr: 1.5849e-05\n",
            "Epoch 66/100\n",
            "10/10 [==============================] - 0s 3ms/step - loss: 2.4231 - lr: 1.7783e-05\n",
            "Epoch 67/100\n",
            "10/10 [==============================] - 0s 3ms/step - loss: 2.9798 - lr: 1.9953e-05\n",
            "Epoch 68/100\n",
            "10/10 [==============================] - 0s 3ms/step - loss: 2.3827 - lr: 2.2387e-05\n",
            "Epoch 69/100\n",
            "10/10 [==============================] - 0s 3ms/step - loss: 2.4488 - lr: 2.5119e-05\n",
            "Epoch 70/100\n",
            "10/10 [==============================] - 0s 4ms/step - loss: 2.5263 - lr: 2.8184e-05\n",
            "Epoch 71/100\n",
            "10/10 [==============================] - 0s 3ms/step - loss: 2.2588 - lr: 3.1623e-05\n",
            "Epoch 72/100\n",
            "10/10 [==============================] - 0s 3ms/step - loss: 2.8848 - lr: 3.5481e-05\n",
            "Epoch 73/100\n",
            "10/10 [==============================] - 0s 3ms/step - loss: 2.4174 - lr: 3.9811e-05\n",
            "Epoch 74/100\n",
            "10/10 [==============================] - 0s 3ms/step - loss: 2.5519 - lr: 4.4668e-05\n",
            "Epoch 75/100\n",
            "10/10 [==============================] - 0s 3ms/step - loss: 4.5648 - lr: 5.0119e-05\n",
            "Epoch 76/100\n",
            "10/10 [==============================] - 0s 3ms/step - loss: 3.3964 - lr: 5.6234e-05\n",
            "Epoch 77/100\n",
            "10/10 [==============================] - 0s 3ms/step - loss: 4.2555 - lr: 6.3096e-05\n",
            "Epoch 78/100\n",
            "10/10 [==============================] - 0s 3ms/step - loss: 2.5594 - lr: 7.0795e-05\n",
            "Epoch 79/100\n",
            "10/10 [==============================] - 0s 3ms/step - loss: 2.9956 - lr: 7.9433e-05\n",
            "Epoch 80/100\n",
            "10/10 [==============================] - 0s 4ms/step - loss: 6.8326 - lr: 8.9125e-05\n",
            "Epoch 81/100\n",
            "10/10 [==============================] - 0s 3ms/step - loss: 5.6753 - lr: 1.0000e-04\n",
            "Epoch 82/100\n",
            "10/10 [==============================] - 0s 3ms/step - loss: 5.8368 - lr: 1.1220e-04\n",
            "Epoch 83/100\n",
            "10/10 [==============================] - 0s 5ms/step - loss: 16.2990 - lr: 1.2589e-04\n",
            "Epoch 84/100\n",
            "10/10 [==============================] - 0s 6ms/step - loss: 16.9592 - lr: 1.4125e-04\n",
            "Epoch 85/100\n",
            "10/10 [==============================] - 0s 5ms/step - loss: 9.7205 - lr: 1.5849e-04\n",
            "Epoch 86/100\n",
            "10/10 [==============================] - 0s 5ms/step - loss: 21.6034 - lr: 1.7783e-04\n",
            "Epoch 87/100\n",
            "10/10 [==============================] - 0s 5ms/step - loss: 22.3586 - lr: 1.9953e-04\n",
            "Epoch 88/100\n",
            "10/10 [==============================] - 0s 4ms/step - loss: 21.0189 - lr: 2.2387e-04\n",
            "Epoch 89/100\n",
            "10/10 [==============================] - 0s 4ms/step - loss: 23.3391 - lr: 2.5119e-04\n",
            "Epoch 90/100\n",
            "10/10 [==============================] - 0s 3ms/step - loss: 40.7371 - lr: 2.8184e-04\n",
            "Epoch 91/100\n",
            "10/10 [==============================] - 0s 3ms/step - loss: 38.7644 - lr: 3.1623e-04\n",
            "Epoch 92/100\n",
            "10/10 [==============================] - 0s 3ms/step - loss: 38.5442 - lr: 3.5481e-04\n",
            "Epoch 93/100\n",
            "10/10 [==============================] - 0s 3ms/step - loss: 46.4654 - lr: 3.9811e-04\n",
            "Epoch 94/100\n",
            "10/10 [==============================] - 0s 3ms/step - loss: 57.3715 - lr: 4.4668e-04\n",
            "Epoch 95/100\n",
            "10/10 [==============================] - 0s 3ms/step - loss: 77.0851 - lr: 5.0119e-04\n",
            "Epoch 96/100\n",
            "10/10 [==============================] - 0s 3ms/step - loss: 87.5271 - lr: 5.6234e-04\n",
            "Epoch 97/100\n",
            "10/10 [==============================] - 0s 3ms/step - loss: 96.6346 - lr: 6.3096e-04\n",
            "Epoch 98/100\n",
            "10/10 [==============================] - 0s 3ms/step - loss: 66.2268 - lr: 7.0795e-04\n",
            "Epoch 99/100\n",
            "10/10 [==============================] - 0s 5ms/step - loss: 57.5304 - lr: 7.9433e-04\n",
            "Epoch 100/100\n",
            "10/10 [==============================] - 0s 5ms/step - loss: 60.0892 - lr: 8.9125e-04\n"
          ]
        }
      ],
      "source": [
        "# Set the learning rate scheduler\n",
        "lr_schedule = tf.keras.callbacks.LearningRateScheduler(\n",
        "    lambda epoch: 1e-8 * 10**(epoch / 20))\n",
        "\n",
        "# Initialize the optimizer\n",
        "optimizer = tf.keras.optimizers.SGD(momentum=0.9)\n",
        "\n",
        "# Set the training parameters\n",
        "model.compile(loss=tf.keras.losses.Huber(), optimizer=optimizer)\n",
        "\n",
        "# Train the model\n",
        "history = model.fit(train_set, epochs=100, callbacks=[lr_schedule])"
      ]
    },
    {
      "cell_type": "code",
      "execution_count": 11,
      "metadata": {
        "id": "xJFAB1NTzGJV",
        "colab": {
          "base_uri": "https://localhost:8080/",
          "height": 558
        },
        "outputId": "329ee3a2-2705-448c-c2f8-453eed224922"
      },
      "outputs": [
        {
          "output_type": "execute_result",
          "data": {
            "text/plain": [
              "(1e-08, 0.001, 0.0, 100.0)"
            ]
          },
          "metadata": {},
          "execution_count": 11
        },
        {
          "output_type": "display_data",
          "data": {
            "text/plain": [
              "<Figure size 1000x600 with 1 Axes>"
            ],
            "image/png": "[encoded data removed]"
          },
          "metadata": {}
        }
      ],
      "source": [
        "# Define the learning rate array\n",
        "lrs = 1e-8 * (10 ** (np.arange(100) / 20))\n",
        "\n",
        "# Set the figure size\n",
        "plt.figure(figsize=(10, 6))\n",
        "\n",
        "# Set the grid\n",
        "plt.grid(True)\n",
        "\n",
        "# Plot the loss in log scale\n",
        "plt.semilogx(lrs, history.history[\"loss\"])\n",
        "\n",
        "# Increase the tickmarks size\n",
        "plt.tick_params('both', length=10, width=1, which='both')\n",
        "\n",
        "# Set the plot boundaries\n",
        "plt.axis([1e-8, 1e-3, 0, 100])"
      ]
    },
    {
      "cell_type": "markdown",
      "metadata": {
        "id": "oY4mnUpNbFdc"
      },
      "source": [
        "## Train the Model\n",
        "\n",
        "Once we've picked a learning rate, we can rebuild the model and start training."
      ]
    },
    {
      "cell_type": "code",
      "execution_count": 12,
      "metadata": {
        "id": "Ngna3zR4znJd"
      },
      "outputs": [],
      "source": [
        "# Reset states generated by Keras\n",
        "tf.keras.backend.clear_session()\n",
        "\n",
        "# Build the Model\n",
        "model = tf.keras.models.Sequential([\n",
        "    tf.keras.layers.Dense(12, input_shape=[window_size], activation=\"relu\"),\n",
        "    tf.keras.layers.Dense(11, activation=\"relu\"),\n",
        "    tf.keras.layers.Dense(11, activation=\"relu\"),\n",
        "    tf.keras.layers.Dense(1)\n",
        "])"
      ]
    },
    {
      "cell_type": "code",
      "execution_count": 13,
      "metadata": {
        "id": "7FKXvEYxzuoc",
        "colab": {
          "base_uri": "https://localhost:8080/"
        },
        "outputId": "408255d0-279f-4cb1-f855-9673dac6a6ac"
      },
      "outputs": [
        {
          "output_type": "stream",
          "name": "stdout",
          "text": [
            "Epoch 1/100\n",
            "10/10 [==============================] - 2s 8ms/step - loss: 83.4934 - mae: 83.9934 - mape: 80.5442\n",
            "Epoch 2/100\n",
            "10/10 [==============================] - 0s 4ms/step - loss: 31.8376 - mae: 32.3369 - mape: 30.8914\n",
            "Epoch 3/100\n",
            "10/10 [==============================] - 0s 4ms/step - loss: 14.4627 - mae: 14.9590 - mape: 14.4056\n",
            "Epoch 4/100\n",
            "10/10 [==============================] - 0s 4ms/step - loss: 6.9825 - mae: 7.4722 - mape: 7.2397\n",
            "Epoch 5/100\n",
            "10/10 [==============================] - 0s 4ms/step - loss: 3.4593 - mae: 3.9369 - mape: 3.7927\n",
            "Epoch 6/100\n",
            "10/10 [==============================] - 0s 4ms/step - loss: 2.7426 - mae: 3.2091 - mape: 3.1061\n",
            "Epoch 7/100\n",
            "10/10 [==============================] - 0s 4ms/step - loss: 2.3991 - mae: 2.8433 - mape: 2.7611\n",
            "Epoch 8/100\n",
            "10/10 [==============================] - 0s 4ms/step - loss: 2.5086 - mae: 2.9683 - mape: 2.8767\n",
            "Epoch 9/100\n",
            "10/10 [==============================] - 0s 4ms/step - loss: 2.3943 - mae: 2.8541 - mape: 2.7647\n",
            "Epoch 10/100\n",
            "10/10 [==============================] - 0s 4ms/step - loss: 2.6418 - mae: 3.1101 - mape: 2.9991\n",
            "Epoch 11/100\n",
            "10/10 [==============================] - 0s 4ms/step - loss: 2.8738 - mae: 3.3413 - mape: 3.2431\n",
            "Epoch 12/100\n",
            "10/10 [==============================] - 0s 4ms/step - loss: 2.7859 - mae: 3.2465 - mape: 3.1698\n",
            "Epoch 13/100\n",
            "10/10 [==============================] - 0s 5ms/step - loss: 2.5539 - mae: 3.0120 - mape: 2.9181\n",
            "Epoch 14/100\n",
            "10/10 [==============================] - 0s 4ms/step - loss: 2.6971 - mae: 3.1637 - mape: 3.0663\n",
            "Epoch 15/100\n",
            "10/10 [==============================] - 0s 5ms/step - loss: 2.4237 - mae: 2.8718 - mape: 2.7871\n",
            "Epoch 16/100\n",
            "10/10 [==============================] - 0s 4ms/step - loss: 2.9696 - mae: 3.4456 - mape: 3.3361\n",
            "Epoch 17/100\n",
            "10/10 [==============================] - 0s 4ms/step - loss: 3.0025 - mae: 3.4727 - mape: 3.3658\n",
            "Epoch 18/100\n",
            "10/10 [==============================] - 0s 4ms/step - loss: 2.3253 - mae: 2.7865 - mape: 2.6953\n",
            "Epoch 19/100\n",
            "10/10 [==============================] - 0s 4ms/step - loss: 2.4152 - mae: 2.8902 - mape: 2.8032\n",
            "Epoch 20/100\n",
            "10/10 [==============================] - 0s 4ms/step - loss: 2.2537 - mae: 2.7034 - mape: 2.6183\n",
            "Epoch 21/100\n",
            "10/10 [==============================] - 0s 4ms/step - loss: 3.1769 - mae: 3.6302 - mape: 3.5028\n",
            "Epoch 22/100\n",
            "10/10 [==============================] - 0s 4ms/step - loss: 2.9083 - mae: 3.3854 - mape: 3.2855\n",
            "Epoch 23/100\n",
            "10/10 [==============================] - 0s 4ms/step - loss: 2.4429 - mae: 2.9076 - mape: 2.8093\n",
            "Epoch 24/100\n",
            "10/10 [==============================] - 0s 5ms/step - loss: 2.7542 - mae: 3.1954 - mape: 3.0961\n",
            "Epoch 25/100\n",
            "10/10 [==============================] - 0s 4ms/step - loss: 2.6099 - mae: 3.0733 - mape: 2.9745\n",
            "Epoch 26/100\n",
            "10/10 [==============================] - 0s 4ms/step - loss: 2.2194 - mae: 2.6679 - mape: 2.5950\n",
            "Epoch 27/100\n",
            "10/10 [==============================] - 0s 4ms/step - loss: 2.9441 - mae: 3.3916 - mape: 3.2738\n",
            "Epoch 28/100\n",
            "10/10 [==============================] - 0s 4ms/step - loss: 2.3464 - mae: 2.8030 - mape: 2.7137\n",
            "Epoch 29/100\n",
            "10/10 [==============================] - 0s 4ms/step - loss: 2.2849 - mae: 2.7149 - mape: 2.6269\n",
            "Epoch 30/100\n",
            "10/10 [==============================] - 0s 4ms/step - loss: 2.0991 - mae: 2.5436 - mape: 2.4674\n",
            "Epoch 31/100\n",
            "10/10 [==============================] - 0s 4ms/step - loss: 2.2148 - mae: 2.6570 - mape: 2.5835\n",
            "Epoch 32/100\n",
            "10/10 [==============================] - 0s 4ms/step - loss: 2.2079 - mae: 2.6618 - mape: 2.5892\n",
            "Epoch 33/100\n",
            "10/10 [==============================] - 0s 4ms/step - loss: 2.1805 - mae: 2.6281 - mape: 2.5451\n",
            "Epoch 34/100\n",
            "10/10 [==============================] - 0s 4ms/step - loss: 2.5683 - mae: 3.0226 - mape: 2.9279\n",
            "Epoch 35/100\n",
            "10/10 [==============================] - 0s 4ms/step - loss: 2.1311 - mae: 2.5861 - mape: 2.5117\n",
            "Epoch 36/100\n",
            "10/10 [==============================] - 0s 4ms/step - loss: 2.1843 - mae: 2.6422 - mape: 2.5641\n",
            "Epoch 37/100\n",
            "10/10 [==============================] - 0s 4ms/step - loss: 2.1047 - mae: 2.5589 - mape: 2.4863\n",
            "Epoch 38/100\n",
            "10/10 [==============================] - 0s 4ms/step - loss: 2.4173 - mae: 2.8811 - mape: 2.7811\n",
            "Epoch 39/100\n",
            "10/10 [==============================] - 0s 4ms/step - loss: 2.5960 - mae: 3.0541 - mape: 2.9568\n",
            "Epoch 40/100\n",
            "10/10 [==============================] - 0s 4ms/step - loss: 3.1782 - mae: 3.6395 - mape: 3.5008\n",
            "Epoch 41/100\n",
            "10/10 [==============================] - 0s 4ms/step - loss: 2.0885 - mae: 2.5197 - mape: 2.4506\n",
            "Epoch 42/100\n",
            "10/10 [==============================] - 0s 4ms/step - loss: 2.1405 - mae: 2.5880 - mape: 2.5076\n",
            "Epoch 43/100\n",
            "10/10 [==============================] - 0s 4ms/step - loss: 2.1874 - mae: 2.6298 - mape: 2.5397\n",
            "Epoch 44/100\n",
            "10/10 [==============================] - 0s 4ms/step - loss: 2.1445 - mae: 2.6051 - mape: 2.5259\n",
            "Epoch 45/100\n",
            "10/10 [==============================] - 0s 4ms/step - loss: 1.9827 - mae: 2.4130 - mape: 2.3423\n",
            "Epoch 46/100\n",
            "10/10 [==============================] - 0s 5ms/step - loss: 2.2242 - mae: 2.6778 - mape: 2.5927\n",
            "Epoch 47/100\n",
            "10/10 [==============================] - 0s 4ms/step - loss: 1.9267 - mae: 2.3730 - mape: 2.2973\n",
            "Epoch 48/100\n",
            "10/10 [==============================] - 0s 4ms/step - loss: 2.1669 - mae: 2.6222 - mape: 2.5473\n",
            "Epoch 49/100\n",
            "10/10 [==============================] - 0s 4ms/step - loss: 2.2381 - mae: 2.6963 - mape: 2.6112\n",
            "Epoch 50/100\n",
            "10/10 [==============================] - 0s 4ms/step - loss: 2.1069 - mae: 2.5514 - mape: 2.4695\n",
            "Epoch 51/100\n",
            "10/10 [==============================] - 0s 4ms/step - loss: 1.9121 - mae: 2.3513 - mape: 2.2733\n",
            "Epoch 52/100\n",
            "10/10 [==============================] - 0s 4ms/step - loss: 2.0952 - mae: 2.5440 - mape: 2.4705\n",
            "Epoch 53/100\n",
            "10/10 [==============================] - 0s 4ms/step - loss: 3.0860 - mae: 3.5460 - mape: 3.4406\n",
            "Epoch 54/100\n",
            "10/10 [==============================] - 0s 4ms/step - loss: 3.2679 - mae: 3.7444 - mape: 3.6083\n",
            "Epoch 55/100\n",
            "10/10 [==============================] - 0s 4ms/step - loss: 2.9405 - mae: 3.4141 - mape: 3.2813\n",
            "Epoch 56/100\n",
            "10/10 [==============================] - 0s 4ms/step - loss: 2.0756 - mae: 2.5242 - mape: 2.4540\n",
            "Epoch 57/100\n",
            "10/10 [==============================] - 0s 4ms/step - loss: 2.1653 - mae: 2.6029 - mape: 2.5225\n",
            "Epoch 58/100\n",
            "10/10 [==============================] - 0s 4ms/step - loss: 2.1942 - mae: 2.6519 - mape: 2.5647\n",
            "Epoch 59/100\n",
            "10/10 [==============================] - 0s 4ms/step - loss: 2.0337 - mae: 2.4524 - mape: 2.3828\n",
            "Epoch 60/100\n",
            "10/10 [==============================] - 0s 4ms/step - loss: 1.9079 - mae: 2.3394 - mape: 2.2644\n",
            "Epoch 61/100\n",
            "10/10 [==============================] - 0s 4ms/step - loss: 1.8728 - mae: 2.3110 - mape: 2.2388\n",
            "Epoch 62/100\n",
            "10/10 [==============================] - 0s 4ms/step - loss: 1.9819 - mae: 2.4305 - mape: 2.3539\n",
            "Epoch 63/100\n",
            "10/10 [==============================] - 0s 4ms/step - loss: 1.8497 - mae: 2.2739 - mape: 2.2062\n",
            "Epoch 64/100\n",
            "10/10 [==============================] - 0s 4ms/step - loss: 2.1672 - mae: 2.6115 - mape: 2.5306\n",
            "Epoch 65/100\n",
            "10/10 [==============================] - 0s 4ms/step - loss: 1.9633 - mae: 2.4186 - mape: 2.3417\n",
            "Epoch 66/100\n",
            "10/10 [==============================] - 0s 5ms/step - loss: 1.8746 - mae: 2.2998 - mape: 2.2296\n",
            "Epoch 67/100\n",
            "10/10 [==============================] - 0s 4ms/step - loss: 2.0495 - mae: 2.4946 - mape: 2.4137\n",
            "Epoch 68/100\n",
            "10/10 [==============================] - 0s 5ms/step - loss: 2.3704 - mae: 2.8199 - mape: 2.7153\n",
            "Epoch 69/100\n",
            "10/10 [==============================] - 0s 4ms/step - loss: 2.0601 - mae: 2.5203 - mape: 2.4384\n",
            "Epoch 70/100\n",
            "10/10 [==============================] - 0s 4ms/step - loss: 2.0457 - mae: 2.5059 - mape: 2.4203\n",
            "Epoch 71/100\n",
            "10/10 [==============================] - 0s 4ms/step - loss: 2.2385 - mae: 2.7024 - mape: 2.6164\n",
            "Epoch 72/100\n",
            "10/10 [==============================] - 0s 4ms/step - loss: 2.0234 - mae: 2.4867 - mape: 2.4026\n",
            "Epoch 73/100\n",
            "10/10 [==============================] - 0s 4ms/step - loss: 1.7798 - mae: 2.2169 - mape: 2.1560\n",
            "Epoch 74/100\n",
            "10/10 [==============================] - 0s 4ms/step - loss: 1.8801 - mae: 2.3194 - mape: 2.2558\n",
            "Epoch 75/100\n",
            "10/10 [==============================] - 0s 4ms/step - loss: 1.7855 - mae: 2.2169 - mape: 2.1436\n",
            "Epoch 76/100\n",
            "10/10 [==============================] - 0s 4ms/step - loss: 2.2601 - mae: 2.7076 - mape: 2.6060\n",
            "Epoch 77/100\n",
            "10/10 [==============================] - 0s 4ms/step - loss: 1.8769 - mae: 2.3364 - mape: 2.2635\n",
            "Epoch 78/100\n",
            "10/10 [==============================] - 0s 4ms/step - loss: 2.2386 - mae: 2.6885 - mape: 2.5915\n",
            "Epoch 79/100\n",
            "10/10 [==============================] - 0s 5ms/step - loss: 2.1169 - mae: 2.5728 - mape: 2.4888\n",
            "Epoch 80/100\n",
            "10/10 [==============================] - 0s 4ms/step - loss: 2.3539 - mae: 2.8006 - mape: 2.6913\n",
            "Epoch 81/100\n",
            "10/10 [==============================] - 0s 4ms/step - loss: 2.3583 - mae: 2.8096 - mape: 2.7194\n",
            "Epoch 82/100\n",
            "10/10 [==============================] - 0s 4ms/step - loss: 2.1700 - mae: 2.6187 - mape: 2.5427\n",
            "Epoch 83/100\n",
            "10/10 [==============================] - 0s 4ms/step - loss: 2.2723 - mae: 2.7275 - mape: 2.6392\n",
            "Epoch 84/100\n",
            "10/10 [==============================] - 0s 4ms/step - loss: 1.8506 - mae: 2.2809 - mape: 2.1986\n",
            "Epoch 85/100\n",
            "10/10 [==============================] - 0s 4ms/step - loss: 1.7384 - mae: 2.1775 - mape: 2.1057\n",
            "Epoch 86/100\n",
            "10/10 [==============================] - 0s 4ms/step - loss: 1.9014 - mae: 2.3301 - mape: 2.2516\n",
            "Epoch 87/100\n",
            "10/10 [==============================] - 0s 4ms/step - loss: 1.7563 - mae: 2.1870 - mape: 2.1236\n",
            "Epoch 88/100\n",
            "10/10 [==============================] - 0s 4ms/step - loss: 1.7550 - mae: 2.1984 - mape: 2.1240\n",
            "Epoch 89/100\n",
            "10/10 [==============================] - 0s 4ms/step - loss: 1.8837 - mae: 2.3220 - mape: 2.2333\n",
            "Epoch 90/100\n",
            "10/10 [==============================] - 0s 4ms/step - loss: 1.7812 - mae: 2.2191 - mape: 2.1546\n",
            "Epoch 91/100\n",
            "10/10 [==============================] - 0s 4ms/step - loss: 1.9747 - mae: 2.4104 - mape: 2.3300\n",
            "Epoch 92/100\n",
            "10/10 [==============================] - 0s 4ms/step - loss: 2.1038 - mae: 2.5634 - mape: 2.4786\n",
            "Epoch 93/100\n",
            "10/10 [==============================] - 0s 4ms/step - loss: 1.6664 - mae: 2.0967 - mape: 2.0369\n",
            "Epoch 94/100\n",
            "10/10 [==============================] - 0s 4ms/step - loss: 2.5810 - mae: 3.0602 - mape: 2.9436\n",
            "Epoch 95/100\n",
            "10/10 [==============================] - 0s 4ms/step - loss: 2.1662 - mae: 2.6233 - mape: 2.5426\n",
            "Epoch 96/100\n",
            "10/10 [==============================] - 0s 4ms/step - loss: 2.4825 - mae: 2.9512 - mape: 2.8738\n",
            "Epoch 97/100\n",
            "10/10 [==============================] - 0s 4ms/step - loss: 2.4465 - mae: 2.9011 - mape: 2.7976\n",
            "Epoch 98/100\n",
            "10/10 [==============================] - 0s 4ms/step - loss: 1.8881 - mae: 2.3174 - mape: 2.2551\n",
            "Epoch 99/100\n",
            "10/10 [==============================] - 0s 4ms/step - loss: 2.3225 - mae: 2.7841 - mape: 2.6758\n",
            "Epoch 100/100\n",
            "10/10 [==============================] - 0s 4ms/step - loss: 2.1643 - mae: 2.6172 - mape: 2.5420\n"
          ]
        }
      ],
      "source": [
        "# Set the learning rate\n",
        "learning_rate = 2e-5\n",
        "\n",
        "# Set the optimizer\n",
        "optimizer = tf.keras.optimizers.SGD(learning_rate=learning_rate, momentum=0.9)\n",
        "\n",
        "# Set the training parameters\n",
        "model.compile(loss=tf.keras.losses.Huber(),\n",
        "              optimizer=optimizer,\n",
        "              metrics=[\"mae\", \"mape\"])\n",
        "\n",
        "# Train the model\n",
        "history = model.fit(train_set,epochs=100)"
      ]
    },
    {
      "cell_type": "markdown",
      "metadata": {
        "id": "b1iV2t8ibIka"
      },
      "source": [
        "## Model Prediction\n",
        "\n",
        "Now see if the model generates good results. We should see the predictions follow the shape of the ground truth with an MAE."
      ]
    },
    {
      "cell_type": "code",
      "execution_count": 14,
      "metadata": {
        "id": "djn06Tri2B6_"
      },
      "outputs": [],
      "source": [
        "def model_forecast(model, series, window_size, batch_size):\n",
        "    \"\"\"Uses an input model to generate predictions on data windows\n",
        "\n",
        "    Args:\n",
        "      model (TF Keras Model) - model that accepts data windows\n",
        "      series (array of float) - contains the values of the time series\n",
        "      window_size (int) - the number of time steps to include in the window\n",
        "      batch_size (int) - the batch size\n",
        "\n",
        "    Returns:\n",
        "      forecast (numpy array) - array containing predictions\n",
        "    \"\"\"\n",
        "\n",
        "    # Generate a TF Dataset from the series values\n",
        "    dataset = tf.data.Dataset.from_tensor_slices(series)\n",
        "\n",
        "    # Window the data but only take those with the specified size\n",
        "    dataset = dataset.window(window_size, shift=1, drop_remainder=True)\n",
        "\n",
        "    # Flatten the windows by putting its elements in a single batch\n",
        "    dataset = dataset.flat_map(lambda w: w.batch(window_size))\n",
        "\n",
        "    # Create batches of windows\n",
        "    dataset = dataset.batch(batch_size).prefetch(1)\n",
        "\n",
        "    # Get predictions on the entire dataset\n",
        "    forecast = model.predict(dataset)\n",
        "\n",
        "    return forecast"
      ]
    },
    {
      "cell_type": "code",
      "execution_count": 15,
      "metadata": {
        "id": "GaC6NNMRp0lb",
        "colab": {
          "base_uri": "https://localhost:8080/",
          "height": 539
        },
        "outputId": "ce663e22-f6a9-4566-c7a3-24cdb33356db"
      },
      "outputs": [
        {
          "output_type": "stream",
          "name": "stdout",
          "text": [
            "2/2 [==============================] - 0s 11ms/step\n"
          ]
        },
        {
          "output_type": "display_data",
          "data": {
            "text/plain": [
              "<Figure size 1000x600 with 1 Axes>"
            ],
            "image/png": "[encoded data removed]"
          },
          "metadata": {}
        }
      ],
      "source": [
        "# Reduce the original series\n",
        "forecast_series = series[split_time-window_size:-1]\n",
        "\n",
        "# Use helper function to generate predictions\n",
        "forecast = model_forecast(model, forecast_series, window_size, batch_size)\n",
        "\n",
        "# Drop single dimensional axis\n",
        "results = forecast.squeeze()\n",
        "\n",
        "# Plot the results\n",
        "plot_series(time_valid, (x_valid, results))"
      ]
    },
    {
      "cell_type": "code",
      "execution_count": 16,
      "metadata": {
        "id": "13XrorC5wQoE",
        "colab": {
          "base_uri": "https://localhost:8080/"
        },
        "outputId": "7e7b79df-bcbe-4ac1-c556-14d35779706c"
      },
      "outputs": [
        {
          "output_type": "stream",
          "name": "stdout",
          "text": [
            "0.86596423\n"
          ]
        }
      ],
      "source": [
        "# Compute the MAE\n",
        "print(tf.keras.metrics.mean_absolute_error(x_valid, results).numpy())"
      ]
    }
  ],
  "metadata": {
    "colab": {
      "provenance": [],
      "gpuType": "T4",
      "collapsed_sections": [
        "2JHlrB12aeFD",
        "D-mNttnaagBH",
        "dFJv45pDauS8"
      ]
    },
    "kernelspec": {
      "display_name": "Python 3",
      "name": "python3"
    },
    "language_info": {
      "codemirror_mode": {
        "name": "ipython",
        "version": 3
      },
      "file_extension": ".py",
      "mimetype": "text/x-python",
      "name": "python",
      "nbconvert_exporter": "python",
      "pygments_lexer": "ipython3",
      "version": "3.7.4"
    },
    "accelerator": "GPU"
  },
  "nbformat": 4,
  "nbformat_minor": 0
}